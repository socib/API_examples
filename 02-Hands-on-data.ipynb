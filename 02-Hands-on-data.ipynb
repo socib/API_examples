{
 "cells": [
  {
   "cell_type": "markdown",
   "metadata": {},
   "source": [
    "![header](https://apps.socib.es/socib_logo.png)"
   ]
  },
  {
   "cell_type": "markdown",
   "metadata": {},
   "source": [
    "# HANDS ON DATA\n",
    "<div style=\"text-align: right\"><i>DATA ENTITIES: discovery and download</i></div>"
   ]
  },
  {
   "cell_type": "markdown",
   "metadata": {},
   "source": [
    "***\n",
    "**General Note 1**: Execute each cell through the <button class=\"btn btn-default btn-xs\"><i class=\"icon-play fa fa-play\"></i></button> button from the top MENU (or keyboard shortcut `Shift` + `Enter`).<br>\n",
    "<br>\n",
    "**General Note 2**: If, for any reason, the kernel is not working anymore, in the top MENU, click on the <button class=\"btn btn-default btn-xs\"><i class=\"fa fa-repeat icon-repeat\"></i></button> button. Then, in the top MENU, click on \"Cell\" and select \"Run All Above Selected Cell\".<br>\n",
    "***"
   ]
  },
  {
   "cell_type": "markdown",
   "metadata": {},
   "source": [
    "<h1>Table of Contents<span class=\"tocSkip\"></h1>\n",
    "<div class=\"toc\">\n",
    "<ul class=\"toc-item\">\n",
    "<li>\n",
    "<span><a href=\"#1.-Setup\" data-toc-modified-id=\"1.-Setup\">1. Setup</a></span>\n",
    "<ul>\n",
    "<li><span><a href=\"#1.1.-Python-packages\" data-toc-modified-id=\"1.1.-Python-packages\">1.1. Python packages</a></span></li>\n",
    "<li><span><a href=\"#1.2.-Api-key\" data-toc-modified-id=\"1.2.-Api-key\">1.2. Api key</a></span></li>\n",
    "    <li><span><a href=\"#1.3.-Auxiliary-functions\" data-toc-modified-id=\"1.3.-Auxiliary-functions\">1.3. Auxiliary-functions</a></span></li>\n",
    "\n",
    "</ul>\n",
    "</li>\n",
    "<li><span><a href=\"#2.-Data-entities\" data-toc-modified-id=\"2.-Data-entities\">2. Data entities</a></span></li>\n",
    "<ul>\n",
    "<li><span><a href=\"#2.1.-Discovery\" data-toc-modified-id=\"2.1.-Discovery\">2.1. Discovery</a></span></li>\n",
    "<li><span><a href=\"#2.2.-Donwload\" data-toc-modified-id=\"2.2.-Download\">2.2. Download</a></span></li>\n",
    "</ul>\n",
    "<li><span><a href=\"#3.-Wrap-up\" data-toc-modified-id=\"3.-Wrap-up\">3. Wrap-up</a></span></li>\n",
    "</ul>\n",
    "</div>"
   ]
  },
  {
   "cell_type": "markdown",
   "metadata": {},
   "source": [
    "***"
   ]
  },
  {
   "cell_type": "markdown",
   "metadata": {},
   "source": [
    "# 1. Setup"
   ]
  },
  {
   "cell_type": "markdown",
   "metadata": {},
   "source": [
    "To use [SOCIB API](http://api.socib.es/home/) users will have to perform authenticated http requests. Therefore we need to declare first our api key and also import some libraries in python that facilitates making queries and rendering the response in a friendly way."
   ]
  },
  {
   "cell_type": "markdown",
   "metadata": {},
   "source": [
    "## 1.1. Python packages"
   ]
  },
  {
   "cell_type": "markdown",
   "metadata": {},
   "source": [
    "`Run the next cell`:"
   ]
  },
  {
   "cell_type": "code",
   "execution_count": 1,
   "metadata": {},
   "outputs": [],
   "source": [
    "import requests\n",
    "import json\n",
    "from json2html import *\n",
    "from IPython.display import HTML\n",
    "import math\n",
    "import shutil\n",
    "import os"
   ]
  },
  {
   "cell_type": "markdown",
   "metadata": {},
   "source": [
    "<div class=\"alert alert-block alert-warning\">\n",
    "<b>WARNING</b>\n",
    "    \n",
    "***  \n",
    "If any of them raises any error it means you need to install the module first. For doing so please:\n",
    "1. Open a new cell in the notebook\n",
    "2. Run <i>`!conda install packageName --yes`</i> or <i>`!pip install packageName`</i>\n",
    "3. Import again!\n",
    "<br><br>\n",
    "Example: <i>how-to-solve import error for json2html module </i>\n",
    "\n",
    "![errorImporting.gif](./assets/errorImporting.gif)\n",
    "</div>"
   ]
  },
  {
   "cell_type": "markdown",
   "metadata": {},
   "source": [
    "## 1.2. Api key"
   ]
  },
  {
   "cell_type": "code",
   "execution_count": 2,
   "metadata": {},
   "outputs": [],
   "source": [
    "api_key = 'api_dummy' #write you SOCIB api_key"
   ]
  },
  {
   "cell_type": "markdown",
   "metadata": {},
   "source": [
    "<div class=\"alert alert-block alert-info\">\n",
    "<b>IMPORTANT</b>\n",
    "    \n",
    "***  \n",
    "If you do not have already an api key, you should request one at [here](http://api.socib.es/home/) before continuing.\n",
    "</div>"
   ]
  },
  {
   "cell_type": "markdown",
   "metadata": {},
   "source": [
    "After setting your api key please `run the next cell` to save it on the headers we will use later on:"
   ]
  },
  {
   "cell_type": "code",
   "execution_count": 3,
   "metadata": {},
   "outputs": [],
   "source": [
    "headers = {\n",
    "    'accept': 'application/vnd.socib+json',\n",
    "    'apikey': api_key,\n",
    "}"
   ]
  },
  {
   "cell_type": "markdown",
   "metadata": {},
   "source": [
    "## 1.3. Auxiliary functions"
   ]
  },
  {
   "cell_type": "markdown",
   "metadata": {},
   "source": [
    "Some api responses requires looping in order to see them completely and not in chunks. In order to better deal with this kind of responses please `run the next cell` to load it into memory for later usage. "
   ]
  },
  {
   "cell_type": "code",
   "execution_count": 4,
   "metadata": {},
   "outputs": [],
   "source": [
    "from lib.functions import scbRequestHandler"
   ]
  },
  {
   "cell_type": "markdown",
   "metadata": {},
   "source": [
    "Let's load into memory also the next function, as it will ease the download of the data from any of the avialble entities. `Run the next cell` "
   ]
  },
  {
   "cell_type": "code",
   "execution_count": 5,
   "metadata": {},
   "outputs": [],
   "source": [
    "from lib.functions import scbDownloadHandler"
   ]
  },
  {
   "cell_type": "markdown",
   "metadata": {},
   "source": [
    "# 2. Data entities"
   ]
  },
  {
   "cell_type": "markdown",
   "metadata": {},
   "source": [
    "The observations derived from the Data streams managed y SOCIB (see [Getting-started](0q-Getting-started.ipynb) is stored as netCDF files and served in as:"
   ]
  },
  {
   "cell_type": "markdown",
   "metadata": {},
   "source": [
    "<li>Entries: netCDF files.</li>"
   ]
  },
  {
   "cell_type": "markdown",
   "metadata": {},
   "source": [
    "<li>Sources: netCDF files grouped in collections based on its sources (instrument/platform reporting the data)</li>"
   ]
  },
  {
   "cell_type": "markdown",
   "metadata": {},
   "source": [
    "<li>Products netCDF files grouped in collections based on a set of rules (same project, same experiment, same endurance line/site...)</li>"
   ]
  },
  {
   "cell_type": "markdown",
   "metadata": {},
   "source": [
    "We will use next SOCIB API to know more about these entities in terms of discovery and download."
   ]
  },
  {
   "cell_type": "markdown",
   "metadata": {},
   "source": [
    "## 2.1. Discovery"
   ]
  },
  {
   "cell_type": "markdown",
   "metadata": {},
   "source": [
    "Users can discover the data available at SOCIB as entries, sources or products by using SOCIB API.<br>Le's see how!"
   ]
  },
  {
   "cell_type": "markdown",
   "metadata": {},
   "source": [
    "Set next the data entity yo wanna explore and `run the cell`:"
   ]
  },
  {
   "cell_type": "code",
   "execution_count": 6,
   "metadata": {},
   "outputs": [],
   "source": [
    "entity = 'data-products' #options: 'entries', 'data-sources', 'data-products'"
   ]
  },
  {
   "cell_type": "markdown",
   "metadata": {},
   "source": [
    "Define next some searching citerias and `run the cell`:"
   ]
  },
  {
   "cell_type": "code",
   "execution_count": 7,
   "metadata": {},
   "outputs": [],
   "source": [
    "searchParams = {\n",
    "    'platform_type' : 'Research Vessel', \n",
    "    'instrument_type' : 'CTD', \n",
    "    'initial_datetime' : '2019-01-01T00:00:00', \n",
    "    'end_datetime' : '2019-12-31T23:59:59', \n",
    "    'standard_variable' : None,\n",
    "    'bbox' : '39.5,40.5,0.0,1.50', #minlat., maxlat., minlon., maxlon\n",
    "}"
   ]
  },
  {
   "cell_type": "markdown",
   "metadata": {},
   "source": [
    "<div class=\"alert alert-block alert-info\">\n",
    "<b>IMPORTANT</b>\n",
    "    \n",
    "***  \n",
    "If you do not wanna set a specific value on any of the above searching criterias leave it as 'None' remove it from the dictionary.<br>\n",
    "Example is provided on standard_variable.\n",
    "</div>"
   ]
  },
  {
   "cell_type": "markdown",
   "metadata": {},
   "source": [
    "<div class=\"alert alert-block alert-warning\">\n",
    "<b>WARNING</b>\n",
    "    \n",
    "***  \n",
    "There are more possible searching parameters. You can find all possible ones in the api documentation ([swagger])(https://api.socib.es/). In the above example we have just set the common ones for any of the data entities.\n",
    "</div>"
   ]
  },
  {
   "cell_type": "markdown",
   "metadata": {},
   "source": [
    "Let's compose the query parameters!: `run the next cell`"
   ]
  },
  {
   "cell_type": "code",
   "execution_count": 8,
   "metadata": {},
   "outputs": [
    {
     "data": {
      "text/plain": [
       "'?platform_type=Research Vessel&instrument_type=CTD&initial_datetime=2019-01-01T00:00:00&end_datetime=2019-12-31T23:59:59&bbox=39.5,40.5,0.0,1.50&'"
      ]
     },
     "execution_count": 8,
     "metadata": {},
     "output_type": "execute_result"
    }
   ],
   "source": [
    "queryParams = '?'\n",
    "for key,value in searchParams.items():\n",
    "    if value != None:\n",
    "        queryParams = queryParams + key+'='+value+'&'\n",
    "queryParams"
   ]
  },
  {
   "cell_type": "markdown",
   "metadata": {},
   "source": [
    "Let's make the formal request!: `run the next cell`"
   ]
  },
  {
   "cell_type": "code",
   "execution_count": 9,
   "metadata": {},
   "outputs": [
    {
     "name": "stdout",
     "output_type": "stream",
     "text": [
      "SOCIB data-products catalog comprehends a total of 2 elements\n"
     ]
    },
    {
     "data": {
      "text/html": [
       "<table border=\"1\"><thead><tr><th>id</th><th>name</th><th>doi</th><th>info</th><th>description</th><th>data_sources</th><th>entries</th><th>initial_datetime</th><th>end_datetime</th></tr></thead><tbody><tr><td>socib-enl-canales-jul2019</td><td>SOCIB ENL Canales Jul2019</td><td>None</td><td>None</td><td>SOCIB-Canales ia a seasonal hydrographic survey of the Balearic Sea, monitoring the Ibiza and Mallorca Channels. 28 CTD stations were carried out over 3 days; the stations forming two transects across the Ibiza Channel (IC) and another transect through the Mallorca Channel (MC). </td><td>http://api.socib.es/data-sources/?data_product=socib-enl-canales-jul2019</td><td>http://api.socib.es/entries/?data_product=socib-enl-canales-jul2019</td><td>2019-07-30T06:00:00Z</td><td>2021-10-05T05:49:59Z</td></tr><tr><td>socib-enl-canales-may2019</td><td>SOCIB ENL Canales May2019</td><td>None</td><td><table border=\"1\"><tr><th>json_ld</th><td><table border=\"1\"><tr><th>publisher</th><td><table border=\"1\"><tr><th>name</th><td>Balearic Islands Coastal Observing and Forecasting System, SOCIB</td></tr><tr><th>@type</th><td>Organization</td></tr></table></td></tr><tr><th>name</th><td>SOCIB ENL Canales May2019</td></tr><tr><th>author</th><td></td></tr><tr><th>url</th><td>apps.socib.es/data-catalog/socib-enl-canales-may2019</td></tr><tr><th>encodingFormat</th><td>application/x-netcdf</td></tr><tr><th>datePublished</th><td>2019</td></tr><tr><th>inLanguage</th><td>en-US</td></tr><tr><th>editor</th><td></td></tr><tr><th>context</th><td>http://schema.org</td></tr><tr><th>additionalType</th><td>Dataset</td></tr><tr><th>schemaVersion</th><td>http://datacite.org/schema/kernel-4</td></tr><tr><th>funder</th><td><table border=\"1\"><thead><tr><th>name</th><th>@type</th></tr></thead><tbody><tr><td>Ministerio de ciencia, innovaciÃ³n y universidades (http://www.ciencia.gob.es/)</td><td>Organization</td></tr><tr><td>Govern de les Illes Balears (http://www.caib.es/)</td><td>Organization</td></tr></tbody></table></td></tr><tr><th>identifier</th><td>None</td></tr><tr><th>@id</th><td>None</td></tr><tr><th>@type</th><td>Dataset</td></tr><tr><th>description</th><td>SOCIB-Canales ia a seasonal hydrographic survey of the Balearic Sea, monitoring the Ibiza and Mallorca Channels. 28 CTD stations were carried out over 3 days; the stations forming two transects across the Ibiza Channel (IC) and another transect through the Mallorca Channel (MC).</td></tr></table></td></tr><tr><th>citation</th><td>None</td></tr><tr><th>how_to_cite</th><td>None</td></tr></table></td><td>SOCIB-Canales ia a seasonal hydrographic survey of the Balearic Sea, monitoring the Ibiza and Mallorca Channels. 28 CTD stations were carried out over 3 days; the stations forming two transects across the Ibiza Channel (IC) and another transect through the Mallorca Channel (MC).</td><td>http://api.socib.es/data-sources/?data_product=socib-enl-canales-may2019</td><td>http://api.socib.es/entries/?data_product=socib-enl-canales-may2019</td><td>2019-05-07T06:02:56Z</td><td>2019-08-29T22:00:00Z</td></tr></tbody></table>"
      ],
      "text/plain": [
       "<IPython.core.display.HTML object>"
      ]
     },
     "execution_count": 9,
     "metadata": {},
     "output_type": "execute_result"
    }
   ],
   "source": [
    "query = 'https://api.socib.es/%s/%s'%(entity,queryParams)\n",
    "response = scbRequestHandler(query,headers)\n",
    "print('SOCIB %s catalog comprehends a total of %s elements'%(entity, len(response)))\n",
    "HTML(json2html.convert(json=response))"
   ]
  },
  {
   "cell_type": "markdown",
   "metadata": {},
   "source": [
    "## 2.2 Data Download"
   ]
  },
  {
   "cell_type": "markdown",
   "metadata": {},
   "source": [
    "Data in any entity can be downloaded solely as netCDF files, as this is the format used in the MetOcean community and, therefore, by SOCIB."
   ]
  },
  {
   "cell_type": "markdown",
   "metadata": {},
   "source": [
    "<div class=\"alert alert-block alert-info\">\n",
    "<b>IMPORTANT</b>\n",
    "    \n",
    "***  \n",
    "You can convert to CSV or other file formats from netCDF by relying on python libraries like <b>[xarray](http://xarray.pydata.org/en/stable/)</b>.\n",
    "</div>"
   ]
  },
  {
   "cell_type": "markdown",
   "metadata": {},
   "source": [
    "Set next the element form the ebove list whose associate file(s) you wanna download and `run the cell`"
   ]
  },
  {
   "cell_type": "code",
   "execution_count": 10,
   "metadata": {},
   "outputs": [],
   "source": [
    "element = response[0]#for example the first element found in the above catalog search"
   ]
  },
  {
   "cell_type": "markdown",
   "metadata": {},
   "source": [
    "Set next the directory you want to download the files to and `run the cell`:"
   ]
  },
  {
   "cell_type": "code",
   "execution_count": 11,
   "metadata": {},
   "outputs": [
    {
     "data": {
      "text/plain": [
       "'/home/paz/CODE/API_examples'"
      ]
     },
     "execution_count": 11,
     "metadata": {},
     "output_type": "execute_result"
    }
   ],
   "source": [
    "target_dir = os.getcwd()\n",
    "target_dir"
   ]
  },
  {
   "cell_type": "markdown",
   "metadata": {},
   "source": [
    "Let's look for files and download those trough http service:"
   ]
  },
  {
   "cell_type": "code",
   "execution_count": 12,
   "metadata": {},
   "outputs": [
    {
     "name": "stdout",
     "output_type": "stream",
     "text": [
      "...Donwloading dep0062_socib-rv_scb-pos001_L1_2019-07-30.nc\n",
      "...Donwloading dep0059_socib-rv_scb-met009_L1_2019-07-30.nc\n",
      "...Donwloading dep0059_socib-rv_scb-met009_L0_2019-07-30.nc\n",
      "...Donwloading dep0062_socib-rv_scb-pos001_L0_2019-07-30.nc\n",
      "...Donwloading dep0027_socib-rv_scb-rdi001_L1_2019-07.nc\n",
      "...Donwloading dep0027_socib-rv_scb-rdi001_L0_2019-07.nc\n",
      "...Donwloading dep0058_socib-rv_scb-tsl001_L1_2019-07-30.nc\n",
      "...Donwloading dep0058_socib-rv_scb-tsl001_L0_2019-07-30.nc\n",
      "...Donwloading dep0017_socib-rv_scb-sbe9001_L0_2019-07-30_data_dt.nc\n",
      "...Donwloading dep0017_socib-rv_scb-sbe9001_L1_2019-07-30_data_dt.nc\n",
      "...Donwloading dep0017_socib-rv_scb-sbe9001_L1_corr_2019-07-30.nc\n",
      "...Donwloading dep0001_drifter-svp072_scb-svp035_L1_2019-07-31.nc\n",
      "...Donwloading dep0001_drifter-svp072_scb-svp035_L0_2019-07-31.nc\n",
      "...Donwloading dep0001_drifter-svp075_scb-svp038_L1_2019-07-31.nc\n",
      "...Donwloading dep0001_drifter-svp075_scb-svp038_L0_2019-07-31.nc\n",
      "...Donwloading dep0002_profiler-drifter-arvorl003_ieo-arvorl001_L1_2019-07-31.nc\n",
      "Ready!\n"
     ]
    }
   ],
   "source": [
    "scbDownloadHandler(element, target_dir, headers)"
   ]
  },
  {
   "cell_type": "markdown",
   "metadata": {},
   "source": [
    "## 3. Wrap-up"
   ]
  },
  {
   "cell_type": "markdown",
   "metadata": {},
   "source": [
    "So far, you shoud be familiar with SOCIB available data catalogs (entries, sources and products), as well as the way to discover and download the data in those based on several criterials (temporal coverage, spatial coverage, source instrutment/paltfoms etc)."
   ]
  }
 ],
 "metadata": {
  "kernelspec": {
   "display_name": "Python 3 (ipykernel)",
   "language": "python",
   "name": "python3"
  },
  "language_info": {
   "codemirror_mode": {
    "name": "ipython",
    "version": 3
   },
   "file_extension": ".py",
   "mimetype": "text/x-python",
   "name": "python",
   "nbconvert_exporter": "python",
   "pygments_lexer": "ipython3",
   "version": "3.8.10"
  }
 },
 "nbformat": 4,
 "nbformat_minor": 1
}
