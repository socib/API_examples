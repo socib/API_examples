{
 "cells": [
  {
   "cell_type": "markdown",
   "metadata": {},
   "source": [
    "![header](https://apps.socib.es/socib_logo.png)"
   ]
  },
  {
   "cell_type": "markdown",
   "metadata": {},
   "source": [
    "# GETTING STARTED\n",
    "\n",
    "<div style=\"text-align: right\"><i>DATA STREAMS: Sources, content and representations</i></div>"
   ]
  },
  {
   "cell_type": "markdown",
   "metadata": {},
   "source": [
    "***\n",
    "**General Note 1**: Execute each cell through the <button class=\"btn btn-default btn-xs\"><i class=\"icon-play fa fa-play\"></i></button> button from the top MENU (or keyboard shortcut `Shift` + `Enter`).<br>\n",
    "<br>\n",
    "**General Note 2**: If, for any reason, the kernel is not working anymore, in the top MENU, click on the <button class=\"btn btn-default btn-xs\"><i class=\"fa fa-repeat icon-repeat\"></i></button> button. Then, in the top MENU, click on \"Cell\" and select \"Run All Above Selected Cell\".<br>\n",
    "***"
   ]
  },
  {
   "cell_type": "markdown",
   "metadata": {},
   "source": [
    "<h1>Table of Contents<span class=\"tocSkip\"></h1>\n",
    "<div class=\"toc\">\n",
    "<ul class=\"toc-item\">\n",
    "<li>\n",
    "<span><a href=\"#1.-Setup\" data-toc-modified-id=\"1.-Setup\">1. Setup</a></span>\n",
    "<ul>\n",
    "<li><span><a href=\"#1.1.-Python-packages\" data-toc-modified-id=\"1.1.-Python-packages\">1.1. Python packages</a></span></li>\n",
    "<li><span><a href=\"#1.2.-Api-key\" data-toc-modified-id=\"1.2.-Api-key\">1.2. Api key</a></span></li>\n",
    "    <li><span><a href=\"#1.3.-Auxiliary-functions\" data-toc-modified-id=\"1.3.-Auxiliary-functions\">1.3. Auxiliary-functions</a></span></li>\n",
    "\n",
    "</ul>\n",
    "</li>\n",
    "<li><span><a href=\"#2.-Data-streams\" data-toc-modified-id=\"2.-Data-streams\">2. Data streams</a></span></li>\n",
    "<ul>\n",
    "<li><span><a href=\"#2.1.-Sources\" data-toc-modified-id=\"2.1.-Sources\">2.1. Sources</a></span></li>\n",
    "<li><span><a href=\"#2.2.-Content\" data-toc-modified-id=\"2.2.-Content\">2.2. Content</a></span></li>\n",
    "<li><span><a href=\"#2.3.-Representations\" data-toc-modified-id=\"2.3.-Representations\">2.3. Representations</a></span></li>\n",
    "</ul>\n",
    "<li><span><a href=\"#3.-Wrap-up\" data-toc-modified-id=\"3.-Wrap-up\">3. Wrap-up</a></span></li>\n",
    "</ul>\n",
    "</div>"
   ]
  },
  {
   "cell_type": "markdown",
   "metadata": {},
   "source": [
    "***"
   ]
  },
  {
   "cell_type": "markdown",
   "metadata": {},
   "source": [
    "# 1. Setup"
   ]
  },
  {
   "cell_type": "markdown",
   "metadata": {},
   "source": [
    "To use [SOCIB API](http://api.socib.es/home/) users will have to perform authenticated http requests. Therefore we need to declare first our api key and also import some libraries in python that facilitates making queries and rendering the response in a friendly way."
   ]
  },
  {
   "cell_type": "markdown",
   "metadata": {},
   "source": [
    "## 1.1. Python packages"
   ]
  },
  {
   "cell_type": "markdown",
   "metadata": {},
   "source": [
    "`Run the next cell`:"
   ]
  },
  {
   "cell_type": "code",
   "execution_count": 1,
   "metadata": {},
   "outputs": [],
   "source": [
    "import requests\n",
    "import json\n",
    "from json2html import *\n",
    "from IPython.display import HTML\n",
    "import math"
   ]
  },
  {
   "cell_type": "markdown",
   "metadata": {},
   "source": [
    "<div class=\"alert alert-block alert-warning\">\n",
    "<b>WARNING</b>\n",
    "    \n",
    "***  \n",
    "If any of them raises any error it means you need to install the module first. For doing so please:\n",
    "1. Open a new cell in the notebook\n",
    "2. Run <i>`!conda install packageName --yes`</i> or <i>`!pip install packageName`</i>\n",
    "3. Import again!\n",
    "<br><br>\n",
    "Example: <i>how-to-solve import error for json2html module </i>\n",
    "\n",
    "![errorImporting.gif](./assets/errorImporting.gif)\n",
    "</div>"
   ]
  },
  {
   "cell_type": "markdown",
   "metadata": {},
   "source": [
    "## 1.2. Api key"
   ]
  },
  {
   "cell_type": "code",
   "execution_count": 2,
   "metadata": {},
   "outputs": [],
   "source": [
    "api_key = 'api_dummy' #write you SOCIB api_key"
   ]
  },
  {
   "cell_type": "markdown",
   "metadata": {},
   "source": [
    "<div class=\"alert alert-block alert-info\">\n",
    "<b>IMPORTANT</b>\n",
    "    \n",
    "***  \n",
    "If you do not have already an api key, you should request one at [here](http://api.socib.es/home/) before continuing.\n",
    "</div>"
   ]
  },
  {
   "cell_type": "markdown",
   "metadata": {},
   "source": [
    "After setting your api key please `run the next cell` to save it on the headers we will use later on:"
   ]
  },
  {
   "cell_type": "code",
   "execution_count": 3,
   "metadata": {},
   "outputs": [],
   "source": [
    "headers = {\n",
    "    'accept': 'application/vnd.socib+json',\n",
    "    'apikey': api_key,\n",
    "}"
   ]
  },
  {
   "cell_type": "markdown",
   "metadata": {},
   "source": [
    "## 1.3. Auxiliary functions"
   ]
  },
  {
   "cell_type": "markdown",
   "metadata": {},
   "source": [
    "Some api responses requires looping in order to see them completely and not in chunks. In order to better deal with this kind of responses please `run the next cell` to load it into memory for later usage. "
   ]
  },
  {
   "cell_type": "code",
   "execution_count": 4,
   "metadata": {},
   "outputs": [],
   "source": [
    "from lib.functions import scbRequestHandler"
   ]
  },
  {
   "cell_type": "markdown",
   "metadata": {},
   "source": [
    "# 2. Data streams"
   ]
  },
  {
   "cell_type": "markdown",
   "metadata": {},
   "source": [
    "Data streams refers the insitu observations received or recovered from platforms/instruments and procesed at SOCIB Research Infrastcruture.<br>\n",
    "We will use next SOCIB API to discover more about this data in terms of available content and representations."
   ]
  },
  {
   "cell_type": "markdown",
   "metadata": {},
   "source": [
    "## 2.1. Sources"
   ]
  },
  {
   "cell_type": "markdown",
   "metadata": {},
   "source": [
    "As stated before, the exact source of the data streams are instruments and/or platforms.<br> Let's have a quick look for example to the stock of platforms types managed by SOCIB Observing System!<br> `Run the next cell`:"
   ]
  },
  {
   "cell_type": "code",
   "execution_count": 5,
   "metadata": {},
   "outputs": [
    {
     "name": "stdout",
     "output_type": "stream",
     "text": [
      "SOCIB is managing a total of 11 platform types\n"
     ]
    },
    {
     "data": {
      "text/html": [
       "<table border=\"1\"><thead><tr><th>code</th><th>name</th><th>description</th><th>ref_uri</th><th>type</th></tr></thead><tbody><tr><td>Coastal Station</td><td>Coastal Station</td><td>Fixed-facilities deployed/installed near-shore so that intruments/sensors can be attached to it in order to monitor some locations of intereset.</td><td>None</td><td>Mooring</td></tr><tr><td>Flowmeter</td><td>Flowmeter</td><td></td><td>None</td><td>Mooring</td></tr><tr><td>Glider</td><td>Glider</td><td>Mobile, unmanned and autonomous underwater facility deployed/released off-shore so that intruments/sensors can be attached to it in order to monitor some transects of intereset.</td><td>None</td><td>AUV</td></tr><tr><td>HF-Radar</td><td>HF-Radar</td><td>Land-based facility deployed/installed near-shore so that intruments/sensors can be attached to it in order to monitor some area of intereset.</td><td>None</td><td>None</td></tr><tr><td>Oceanographic Buoy</td><td>Oceanographic Buoy</td><td>Fixed-facility deployed/installed off-shore so that intruments/sensors can be attached to it in order to monitor some locations of intereset.</td><td>None</td><td>Mooring</td></tr><tr><td>Profiler drifter</td><td>Profiler drifter</td><td>Underwater and drifting floats (Argo) deployed/released off-shore so that intruments/sensors can be attached to it in order to monitor some transects of intereset.</td><td>None</td><td>Drifter</td></tr><tr><td>Research Vessel</td><td>Research Vessel</td><td>Mobile, manned and self-propelled facility deployed/mobilized so that intruments/sensors can be carried on board to monitor some transects of interest.</td><td>None</td><td>None</td></tr><tr><td>Sea Level</td><td>Sea Level</td><td>Fixed-facility deployed/installed on-shore so that intruments/sensors (at least Tide Gauge and Barometer) can be attached to it in order to monitor some locations of intereset.</td><td>None</td><td>Mooring</td></tr><tr><td>Surface drifter</td><td>Surface drifter</td><td>Surface and drifting floats deployed/released off-shore so that intruments/sensors can be attached to it in order to monitor ocean currents and ocean water characteristics as it drifts.</td><td>None</td><td>Drifter</td></tr><tr><td>Turtle</td><td>Turtle</td><td>Sea-turtle used as mobile, unmanned and atonomous underwater facility deployed/released off-shore so that intruments/sensors can be attached to it in order to monitor arbitrary transects.</td><td>None</td><td>Animal</td></tr><tr><td>Weather Station</td><td>Weather Station</td><td>Fixed-facility deployed/installed on-land and so that intruments/sensors can be attached to it in order to monitor some locations of intereset in terms of atmospheric conditions.</td><td>None</td><td>Mooring</td></tr></tbody></table>"
      ],
      "text/plain": [
       "<IPython.core.display.HTML object>"
      ]
     },
     "execution_count": 5,
     "metadata": {},
     "output_type": "execute_result"
    }
   ],
   "source": [
    "query = 'https://api.socib.es/platform-types/'\n",
    "response = scbRequestHandler(query,headers)\n",
    "print('SOCIB is managing a total of %s platform types'%(len(response)))\n",
    "HTML(json2html.convert(json=response))"
   ]
  },
  {
   "cell_type": "markdown",
   "metadata": {},
   "source": [
    "Would you like to to know the units of each one that have ignited data streams at SOCIB so far?<br>\n",
    "Let's check for one of the types! `Run the next cells`"
   ]
  },
  {
   "cell_type": "code",
   "execution_count": 6,
   "metadata": {},
   "outputs": [],
   "source": [
    "platform_type = 'Profiler drifter' #type here one of the bove platform types"
   ]
  },
  {
   "cell_type": "code",
   "execution_count": 7,
   "metadata": {},
   "outputs": [
    {
     "name": "stdout",
     "output_type": "stream",
     "text": [
      "SOCIB is managing a total of 27 platform of the selected type\n"
     ]
    },
    {
     "data": {
      "text/html": [
       "<table border=\"1\"><thead><tr><th>id</th><th>name</th><th>type</th><th>description</th><th>wmo_code</th><th>wmo_naming_authority</th><th>is_active</th><th>initial_datetime</th><th>end_datetime</th><th>data_sources</th><th>entries</th></tr></thead><tbody><tr><td>Argo_Drifter_APEX001</td><td>Argo_Drifter_APEX001</td><td>http://api.socib.es/platform-types/Profiler%20drifter</td><td>Data from APEX argo profile drifter. Data is collected by Ifremer, SOCIB creates a new NetCDF CF-1.6 compliant without change the data.</td><td>6900659</td><td>None</td><td>False</td><td>2011-01-17T07:01:03Z</td><td>2015-07-20T12:29:38Z</td><td>http://api.socib.es/data-sources/?platform=Argo_Drifter_APEX001</td><td>http://api.socib.es/entries/?platform=Argo_Drifter_APEX001</td></tr><tr><td>Argo_Drifter_APEX002</td><td>Argo_Drifter_APEX002</td><td>http://api.socib.es/platform-types/Profiler%20drifter</td><td>Data from APEX argo profile drifter. Data is collected by Ifremer, SOCIB creates a new NetCDF CF-1.6 compliant without change the data.</td><td>6900662</td><td>None</td><td>False</td><td>2012-06-15T03:06:06Z</td><td>2016-01-01T06:46:13Z</td><td>http://api.socib.es/data-sources/?platform=Argo_Drifter_APEX002</td><td>http://api.socib.es/entries/?platform=Argo_Drifter_APEX002</td></tr><tr><td>Argo_Drifter_APEX003</td><td>Argo_Drifter_APEX003</td><td>http://api.socib.es/platform-types/Profiler%20drifter</td><td>Data from APEX argo profile drifter. Data is collected by Ifremer, SOCIB creates a new NetCDF CF-1.6 compliant without change the data.</td><td>6900660</td><td>None</td><td>False</td><td>2011-09-13T06:03:53Z</td><td>2013-05-15T08:15:39Z</td><td>http://api.socib.es/data-sources/?platform=Argo_Drifter_APEX003</td><td>http://api.socib.es/entries/?platform=Argo_Drifter_APEX003</td></tr><tr><td>Argo_Drifter_APEX004</td><td>Argo_Drifter_APEX004</td><td>http://api.socib.es/platform-types/Profiler%20drifter</td><td>Data from APEX argo profile drifter. Data is collected by Ifremer, SOCIB creates a new NetCDF CF-1.6 compliant without change the data.</td><td>6900786</td><td>None</td><td>False</td><td>2012-08-12T18:52:39Z</td><td>2015-07-25T16:56:09Z</td><td>http://api.socib.es/data-sources/?platform=Argo_Drifter_APEX004</td><td>http://api.socib.es/entries/?platform=Argo_Drifter_APEX004</td></tr><tr><td>Argo_Drifter_APEX005</td><td>Argo_Drifter_APEX005</td><td>http://api.socib.es/platform-types/Profiler%20drifter</td><td>Data from APEX argo profile drifter. Data is collected by Ifremer, SOCIB creates a new NetCDF CF-1.6 compliant without change the data.</td><td>6900788</td><td>None</td><td>False</td><td>2013-04-16T09:02:00Z</td><td>2015-02-25T17:12:09Z</td><td>http://api.socib.es/data-sources/?platform=Argo_Drifter_APEX005</td><td>http://api.socib.es/entries/?platform=Argo_Drifter_APEX005</td></tr><tr><td>Argo_Drifter_APEX006</td><td>Argo_Drifter_APEX006</td><td>http://api.socib.es/platform-types/Profiler%20drifter</td><td>Data from APEX argo profile drifter. Data is collected by Ifremer, SOCIB creates a new NetCDF CF-1.6 compliant without change the data.</td><td>6900787</td><td>None</td><td>False</td><td>2013-07-10T19:18:09Z</td><td>2015-07-11T02:03:59Z</td><td>http://api.socib.es/data-sources/?platform=Argo_Drifter_APEX006</td><td>http://api.socib.es/entries/?platform=Argo_Drifter_APEX006</td></tr><tr><td>Argo_Drifter_APEX007</td><td>Argo_Drifter_APEX007</td><td>http://api.socib.es/platform-types/Profiler%20drifter</td><td>Data from APEX argo profile drifter. Data is collected by Ifremer, SOCIB creates a new NetCDF CF-1.6 compliant without change the data.</td><td>6901243</td><td>None</td><td>False</td><td>2014-11-22T23:25:09Z</td><td>2017-03-09T16:51:09Z</td><td>http://api.socib.es/data-sources/?platform=Argo_Drifter_APEX007</td><td>http://api.socib.es/entries/?platform=Argo_Drifter_APEX007</td></tr><tr><td>Argo_Drifter_APEX008</td><td>Argo_Drifter_APEX008</td><td>http://api.socib.es/platform-types/Profiler%20drifter</td><td>Data from APEX argo profile drifter. Data is collected by Ifremer, SOCIB creates a new NetCDF CF-1.6 compliant without change the data.&lt;br&gt;</td><td>6901242</td><td>None</td><td>False</td><td>2015-04-26T03:56:00Z</td><td>2017-05-29T02:47:42Z</td><td>http://api.socib.es/data-sources/?platform=Argo_Drifter_APEX008</td><td>http://api.socib.es/entries/?platform=Argo_Drifter_APEX008</td></tr><tr><td>Argo_Drifter_APEX008__dep2</td><td>Argo_Drifter_APEX008__dep2</td><td>http://api.socib.es/platform-types/Profiler%20drifter</td><td>Data from APEX argo profile drifter. Data is collected by Ifremer, SOCIB creates a new NetCDF CF-1.6 compliant without change the data.&lt;br&gt;</td><td>6901247</td><td>None</td><td>False</td><td>2015-07-22T07:46:20Z</td><td>2017-05-29T02:47:42Z</td><td>http://api.socib.es/data-sources/?platform=Argo_Drifter_APEX008__dep2</td><td>http://api.socib.es/entries/?platform=Argo_Drifter_APEX008__dep2</td></tr><tr><td>Argo_Drifter_APEX009</td><td>Argo_Drifter_APEX009</td><td>http://api.socib.es/platform-types/Profiler%20drifter</td><td>Data from APEX argo profile drifter. Data is collected by Ifremer, SOCIB creates a new NetCDF CF-1.6 compliant without change the data.</td><td>6901244</td><td>None</td><td>False</td><td>2015-11-28T06:18:29Z</td><td>2016-07-17T06:25:10Z</td><td>http://api.socib.es/data-sources/?platform=Argo_Drifter_APEX009</td><td>http://api.socib.es/entries/?platform=Argo_Drifter_APEX009</td></tr><tr><td>Profiler_Drifter_ARVORA3001</td><td>Profiler_Drifter_ARVORA3001</td><td>http://api.socib.es/platform-types/Profiler%20drifter</td><td>Data from ARVOR A3 profiler drifter. Data is collected by Ifremer (Coriolis), SOCIB creates a new NetCDF CF-1.6 compliant without changing the data.</td><td>6901877</td><td>None</td><td>False</td><td>2014-05-25T05:20:00Z</td><td>2014-06-17T02:06:00Z</td><td>http://api.socib.es/data-sources/?platform=Profiler_Drifter_ARVORA3001</td><td>http://api.socib.es/entries/?platform=Profiler_Drifter_ARVORA3001</td></tr><tr><td>Profiler_Drifter_ARVORC001</td><td>Profiler_Drifter_ARVORC001</td><td>http://api.socib.es/platform-types/Profiler%20drifter</td><td>None</td><td>None</td><td>None</td><td>False</td><td>2014-05-24T19:31:01Z</td><td>2014-09-23T21:43:45Z</td><td>http://api.socib.es/data-sources/?platform=Profiler_Drifter_ARVORC001</td><td>http://api.socib.es/entries/?platform=Profiler_Drifter_ARVORC001</td></tr><tr><td>Profiler_Drifter_ARVORI001</td><td>Profiler_Drifter_ARVORI001</td><td>http://api.socib.es/platform-types/Profiler%20drifter</td><td>Data from ARVORI profiler drifter. Data is collected by Ifremer (Coriollis), SOCIB creates a new NetCDF CF-1.6 compliant without change the data.</td><td>6901245</td><td>None</td><td>False</td><td>2014-11-22T00:18:00Z</td><td>2018-10-13T06:21:00Z</td><td>http://api.socib.es/data-sources/?platform=Profiler_Drifter_ARVORI001</td><td>http://api.socib.es/entries/?platform=Profiler_Drifter_ARVORI001</td></tr><tr><td>Profiler_Drifter_ARVORI002</td><td>Profiler_Drifter_ARVORI002</td><td>http://api.socib.es/platform-types/Profiler%20drifter</td><td>Data from ARVORI profiler drifter. Data is collected by Ifremer (Coriollis), SOCIB creates a new NetCDF CF-1.6 compliant without change the data.</td><td>6901249</td><td>None</td><td>True</td><td>2017-02-20T11:33:00Z</td><td>2022-02-10T06:05:00Z</td><td>http://api.socib.es/data-sources/?platform=Profiler_Drifter_ARVORI002</td><td>http://api.socib.es/entries/?platform=Profiler_Drifter_ARVORI002</td></tr><tr><td>Profiler_Drifter_ARVORI003</td><td>Profiler_Drifter_ARVORI003</td><td>http://api.socib.es/platform-types/Profiler%20drifter</td><td>Data from ARVORI profiler drifter. Data is collected by Ifremer (Coriollis), SOCIB creates a new NetCDF CF-1.6 compliant without change the data.</td><td>6901250</td><td>None</td><td>True</td><td>2017-08-04T14:17:59Z</td><td>2022-02-11T06:00:59Z</td><td>http://api.socib.es/data-sources/?platform=Profiler_Drifter_ARVORI003</td><td>http://api.socib.es/entries/?platform=Profiler_Drifter_ARVORI003</td></tr><tr><td>Profiler_Drifter_ARVORI004</td><td>Profiler_Drifter_ARVORI004</td><td>http://api.socib.es/platform-types/Profiler%20drifter</td><td>Data from ARVORI profiler drifter. Data is collected by Ifremer (Coriollis), SOCIB creates a new NetCDF CF-1.6 compliant without change the data.</td><td>6901251</td><td>None</td><td>False</td><td>2017-07-21T16:14:00Z</td><td>2020-05-08T06:07:00Z</td><td>http://api.socib.es/data-sources/?platform=Profiler_Drifter_ARVORI004</td><td>http://api.socib.es/entries/?platform=Profiler_Drifter_ARVORI004</td></tr><tr><td>Profiler_Drifter_ARVORI005</td><td>Profiler_Drifter_ARVORI005</td><td>http://api.socib.es/platform-types/Profiler%20drifter</td><td>Data from ARVORI profiler drifter. Data is collected by Ifremer (Coriollis), SOCIB creates a new NetCDF CF-1.6 compliant without change the data.</td><td>6901279</td><td>None</td><td>False</td><td>2020-03-12T12:10:00Z</td><td>2020-07-31T05:59:29Z</td><td>http://api.socib.es/data-sources/?platform=Profiler_Drifter_ARVORI005</td><td>http://api.socib.es/entries/?platform=Profiler_Drifter_ARVORI005</td></tr><tr><td>Profiler_Drifter_ARVORI005A</td><td>Profiler_Drifter_ARVORI005A</td><td>http://api.socib.es/platform-types/Profiler%20drifter</td><td>Data from ARVORI profiler drifter. Data is collected by Ifremer (Coriolis), SOCIB creates a new NetCDF CF-1.6 compliant without change the data.</td><td>6904065</td><td>None</td><td>True</td><td>2020-08-14T11:07:59Z</td><td>2022-02-07T06:05:30Z</td><td>http://api.socib.es/data-sources/?platform=Profiler_Drifter_ARVORI005A</td><td>http://api.socib.es/entries/?platform=Profiler_Drifter_ARVORI005A</td></tr><tr><td>Profiler_Drifter_ARVORI006</td><td>Profiler_Drifter_ARVORI006</td><td>http://api.socib.es/platform-types/Profiler%20drifter</td><td>Data from ARVORI profiler drifter. Data is collected by Ifremer (Coriolis), SOCIB creates a new NetCDF CF-1.6 compliant without change the data.</td><td>6901280</td><td>None</td><td>True</td><td>2020-08-12T11:54:59Z</td><td>2022-02-10T05:43:29Z</td><td>http://api.socib.es/data-sources/?platform=Profiler_Drifter_ARVORI006</td><td>http://api.socib.es/entries/?platform=Profiler_Drifter_ARVORI006</td></tr><tr><td>Profiler_Drifter_ARVORI007</td><td>Profiler_Drifter_ARVORI007</td><td>http://api.socib.es/platform-types/Profiler%20drifter</td><td>Data from ARVORI profiler drifter. Data is collected by Ifremer (Coriolis), SOCIB creates a new NetCDF CF-1.6 compliant without change the data.</td><td>6901281</td><td>None</td><td>True</td><td>2020-11-04T11:27:00Z</td><td>2022-02-09T05:39:30Z</td><td>http://api.socib.es/data-sources/?platform=Profiler_Drifter_ARVORI007</td><td>http://api.socib.es/entries/?platform=Profiler_Drifter_ARVORI007</td></tr><tr><td>Profiler_Drifter_ARVORI008</td><td>Profiler_Drifter_ARVORI008</td><td>http://api.socib.es/platform-types/Profiler%20drifter</td><td>Data from ARVORI profiler drifter. Data is collected by Ifremer (Coriolis), SOCIB creates a new NetCDF CF-1.6 compliant without change the data.</td><td>6901278</td><td>None</td><td>True</td><td>2020-03-12T09:20:00Z</td><td>2022-02-09T04:23:19Z</td><td>http://api.socib.es/data-sources/?platform=Profiler_Drifter_ARVORI008</td><td>http://api.socib.es/entries/?platform=Profiler_Drifter_ARVORI008</td></tr><tr><td>Profiler_Drifter_ARVORI009</td><td>Profiler_Drifter_ARVORI009</td><td>http://api.socib.es/platform-types/Profiler%20drifter</td><td>Data from ARVORI profiler drifter. Data is collected by Ifremer (Coriolis), SOCIB creates a new NetCDF CF-1.6 compliant without change the data.</td><td>6901282</td><td>None</td><td>True</td><td>2021-12-13T12:50:59Z</td><td>2022-02-07T20:03:30Z</td><td>http://api.socib.es/data-sources/?platform=Profiler_Drifter_ARVORI009</td><td>http://api.socib.es/entries/?platform=Profiler_Drifter_ARVORI009</td></tr><tr><td>Profiler_Drifter_ARVORI010</td><td>Profiler_Drifter_ARVORI010</td><td>http://api.socib.es/platform-types/Profiler%20drifter</td><td>Data from ARVORI profiler drifter. Data is collected by Ifremer (Coriolis), SOCIB creates a new NetCDF CF-1.6 compliant without change the data.</td><td>6901283</td><td>None</td><td>True</td><td>2021-12-14T12:28:00Z</td><td>2022-02-08T20:11:29Z</td><td>http://api.socib.es/data-sources/?platform=Profiler_Drifter_ARVORI010</td><td>http://api.socib.es/entries/?platform=Profiler_Drifter_ARVORI010</td></tr><tr><td>Profiler_Drifter_ARVORI011</td><td>Profiler_Drifter_ARVORI011</td><td>http://api.socib.es/platform-types/Profiler%20drifter</td><td>Data from ARVORI profiler drifter. Data is collected by Ifremer (Coriolis), SOCIB creates a new NetCDF CF-1.6 compliant without change the data.</td><td>6901284</td><td>None</td><td>True</td><td>2021-12-14T12:27:00Z</td><td>2022-02-08T23:56:29Z</td><td>http://api.socib.es/data-sources/?platform=Profiler_Drifter_ARVORI011</td><td>http://api.socib.es/entries/?platform=Profiler_Drifter_ARVORI011</td></tr><tr><td>Profiler_Drifter_ARVORL001</td><td>Profiler_Drifter_ARVORL001</td><td>http://api.socib.es/platform-types/Profiler%20drifter</td><td>Data from ARVORL profiler drifter. Data is collected by Ifremer (Coriollis), SOCIB creates a new NetCDF CF-1.6 compliant without change the data.</td><td>6901275</td><td>None</td><td>False</td><td>2019-03-05T15:27:00Z</td><td>2019-04-29T06:10:00Z</td><td>http://api.socib.es/data-sources/?platform=Profiler_Drifter_ARVORL001</td><td>http://api.socib.es/entries/?platform=Profiler_Drifter_ARVORL001</td></tr><tr><td>Profiler_Drifter_ARVORL003</td><td>Profiler_Drifter_ARVORL003</td><td>http://api.socib.es/platform-types/Profiler%20drifter</td><td>Data from ARVORL profiler drifter. Data is collected by Ifremer (Coriollis), SOCIB creates a new NetCDF CF-1.6 compliant without change the data.</td><td>6901277</td><td>None</td><td>False</td><td>2019-08-02T14:30:59Z</td><td>2021-10-05T05:49:59Z</td><td>http://api.socib.es/data-sources/?platform=Profiler_Drifter_ARVORL003</td><td>http://api.socib.es/entries/?platform=Profiler_Drifter_ARVORL003</td></tr><tr><td>Profiler_Drifter_PROVBIOLL001</td><td>Profiler_Drifter_PROVBIOLL001</td><td>http://api.socib.es/platform-types/Profiler%20drifter</td><td>Data from Prov-Bio profiler drifter. Data is collected by OBS-VLFR (Observatoire OcÃ©anologique de Villefranche-sur-Mer), SOCIB creates a new NetCDF CF-1.6 compliant without changing the data.</td><td>6901861</td><td>None</td><td>False</td><td>2014-05-25T23:30:00Z</td><td>2015-04-24T12:02:59Z</td><td>http://api.socib.es/data-sources/?platform=Profiler_Drifter_PROVBIOLL001</td><td>http://api.socib.es/entries/?platform=Profiler_Drifter_PROVBIOLL001</td></tr></tbody></table>"
      ],
      "text/plain": [
       "<IPython.core.display.HTML object>"
      ]
     },
     "execution_count": 7,
     "metadata": {},
     "output_type": "execute_result"
    }
   ],
   "source": [
    "query = 'https://api.socib.es/platforms/?platform_type=%s'%(platform_type)\n",
    "response = scbRequestHandler(query,headers)\n",
    "print('SOCIB is managing a total of %s platform of the selected type'%(len(response)))\n",
    "HTML(json2html.convert(json=response))"
   ]
  },
  {
   "cell_type": "markdown",
   "metadata": {},
   "source": [
    "And...which ones are currently providing data streams? Let's ask the api!: `run the next cells`"
   ]
  },
  {
   "cell_type": "code",
   "execution_count": 8,
   "metadata": {},
   "outputs": [],
   "source": [
    "is_active = 'true' #set to 'false' if you wanna find the inactive ones"
   ]
  },
  {
   "cell_type": "code",
   "execution_count": 9,
   "metadata": {},
   "outputs": [
    {
     "name": "stdout",
     "output_type": "stream",
     "text": [
      "SOCIB is managing a total of 9 platform of the selected type\n"
     ]
    },
    {
     "data": {
      "text/html": [
       "<table border=\"1\"><thead><tr><th>id</th><th>name</th><th>type</th><th>description</th><th>wmo_code</th><th>wmo_naming_authority</th><th>is_active</th><th>initial_datetime</th><th>end_datetime</th><th>data_sources</th><th>entries</th></tr></thead><tbody><tr><td>Profiler_Drifter_ARVORI002</td><td>Profiler_Drifter_ARVORI002</td><td>http://api.socib.es/platform-types/Profiler%20drifter</td><td>Data from ARVORI profiler drifter. Data is collected by Ifremer (Coriollis), SOCIB creates a new NetCDF CF-1.6 compliant without change the data.</td><td>6901249</td><td>None</td><td>True</td><td>2017-02-20T11:33:00Z</td><td>2022-02-10T06:05:00Z</td><td>http://api.socib.es/data-sources/?platform=Profiler_Drifter_ARVORI002</td><td>http://api.socib.es/entries/?platform=Profiler_Drifter_ARVORI002</td></tr><tr><td>Profiler_Drifter_ARVORI003</td><td>Profiler_Drifter_ARVORI003</td><td>http://api.socib.es/platform-types/Profiler%20drifter</td><td>Data from ARVORI profiler drifter. Data is collected by Ifremer (Coriollis), SOCIB creates a new NetCDF CF-1.6 compliant without change the data.</td><td>6901250</td><td>None</td><td>True</td><td>2017-08-04T14:17:59Z</td><td>2022-02-11T06:00:59Z</td><td>http://api.socib.es/data-sources/?platform=Profiler_Drifter_ARVORI003</td><td>http://api.socib.es/entries/?platform=Profiler_Drifter_ARVORI003</td></tr><tr><td>Profiler_Drifter_ARVORI005A</td><td>Profiler_Drifter_ARVORI005A</td><td>http://api.socib.es/platform-types/Profiler%20drifter</td><td>Data from ARVORI profiler drifter. Data is collected by Ifremer (Coriolis), SOCIB creates a new NetCDF CF-1.6 compliant without change the data.</td><td>6904065</td><td>None</td><td>True</td><td>2020-08-14T11:07:59Z</td><td>2022-02-07T06:05:30Z</td><td>http://api.socib.es/data-sources/?platform=Profiler_Drifter_ARVORI005A</td><td>http://api.socib.es/entries/?platform=Profiler_Drifter_ARVORI005A</td></tr><tr><td>Profiler_Drifter_ARVORI006</td><td>Profiler_Drifter_ARVORI006</td><td>http://api.socib.es/platform-types/Profiler%20drifter</td><td>Data from ARVORI profiler drifter. Data is collected by Ifremer (Coriolis), SOCIB creates a new NetCDF CF-1.6 compliant without change the data.</td><td>6901280</td><td>None</td><td>True</td><td>2020-08-12T11:54:59Z</td><td>2022-02-10T05:43:29Z</td><td>http://api.socib.es/data-sources/?platform=Profiler_Drifter_ARVORI006</td><td>http://api.socib.es/entries/?platform=Profiler_Drifter_ARVORI006</td></tr><tr><td>Profiler_Drifter_ARVORI007</td><td>Profiler_Drifter_ARVORI007</td><td>http://api.socib.es/platform-types/Profiler%20drifter</td><td>Data from ARVORI profiler drifter. Data is collected by Ifremer (Coriolis), SOCIB creates a new NetCDF CF-1.6 compliant without change the data.</td><td>6901281</td><td>None</td><td>True</td><td>2020-11-04T11:27:00Z</td><td>2022-02-09T05:39:30Z</td><td>http://api.socib.es/data-sources/?platform=Profiler_Drifter_ARVORI007</td><td>http://api.socib.es/entries/?platform=Profiler_Drifter_ARVORI007</td></tr><tr><td>Profiler_Drifter_ARVORI008</td><td>Profiler_Drifter_ARVORI008</td><td>http://api.socib.es/platform-types/Profiler%20drifter</td><td>Data from ARVORI profiler drifter. Data is collected by Ifremer (Coriolis), SOCIB creates a new NetCDF CF-1.6 compliant without change the data.</td><td>6901278</td><td>None</td><td>True</td><td>2020-03-12T09:20:00Z</td><td>2022-02-09T04:23:19Z</td><td>http://api.socib.es/data-sources/?platform=Profiler_Drifter_ARVORI008</td><td>http://api.socib.es/entries/?platform=Profiler_Drifter_ARVORI008</td></tr><tr><td>Profiler_Drifter_ARVORI009</td><td>Profiler_Drifter_ARVORI009</td><td>http://api.socib.es/platform-types/Profiler%20drifter</td><td>Data from ARVORI profiler drifter. Data is collected by Ifremer (Coriolis), SOCIB creates a new NetCDF CF-1.6 compliant without change the data.</td><td>6901282</td><td>None</td><td>True</td><td>2021-12-13T12:50:59Z</td><td>2022-02-07T20:03:30Z</td><td>http://api.socib.es/data-sources/?platform=Profiler_Drifter_ARVORI009</td><td>http://api.socib.es/entries/?platform=Profiler_Drifter_ARVORI009</td></tr><tr><td>Profiler_Drifter_ARVORI010</td><td>Profiler_Drifter_ARVORI010</td><td>http://api.socib.es/platform-types/Profiler%20drifter</td><td>Data from ARVORI profiler drifter. Data is collected by Ifremer (Coriolis), SOCIB creates a new NetCDF CF-1.6 compliant without change the data.</td><td>6901283</td><td>None</td><td>True</td><td>2021-12-14T12:28:00Z</td><td>2022-02-08T20:11:29Z</td><td>http://api.socib.es/data-sources/?platform=Profiler_Drifter_ARVORI010</td><td>http://api.socib.es/entries/?platform=Profiler_Drifter_ARVORI010</td></tr><tr><td>Profiler_Drifter_ARVORI011</td><td>Profiler_Drifter_ARVORI011</td><td>http://api.socib.es/platform-types/Profiler%20drifter</td><td>Data from ARVORI profiler drifter. Data is collected by Ifremer (Coriolis), SOCIB creates a new NetCDF CF-1.6 compliant without change the data.</td><td>6901284</td><td>None</td><td>True</td><td>2021-12-14T12:27:00Z</td><td>2022-02-08T23:56:29Z</td><td>http://api.socib.es/data-sources/?platform=Profiler_Drifter_ARVORI011</td><td>http://api.socib.es/entries/?platform=Profiler_Drifter_ARVORI011</td></tr></tbody></table>"
      ],
      "text/plain": [
       "<IPython.core.display.HTML object>"
      ]
     },
     "execution_count": 9,
     "metadata": {},
     "output_type": "execute_result"
    }
   ],
   "source": [
    "query = 'https://api.socib.es/platforms/?is_active=%s&platform_type=%s'%(is_active, platform_type)\n",
    "response = scbRequestHandler(query,headers)\n",
    "print('SOCIB is managing a total of %s platform of the selected type'%(len(response)))\n",
    "HTML(json2html.convert(json=response))"
   ]
  },
  {
   "cell_type": "markdown",
   "metadata": {},
   "source": [
    "<div class=\"alert alert-block alert-success\">\n",
    "<b>CHALLENGE!</b>\n",
    "    \n",
    "***  \n",
    "Try to do the same for instruments!. <br>Tip!: use  https://api.socib.es/instruments/ and https://api.socib.es/instruments/instrument_type=%s queries instead.\n",
    "</div>"
   ]
  },
  {
   "cell_type": "markdown",
   "metadata": {},
   "source": [
    "## 2.2. Content"
   ]
  },
  {
   "cell_type": "markdown",
   "metadata": {},
   "source": [
    "As already stated before, data streams are insitu observations and therefore, they are actual measurements of variables.<br> In this sense, What kind of variables shall expect users to find in the data streams managed by SOCIB? <br> Let's discover this with SOCIB API! `run the next cells`:"
   ]
  },
  {
   "cell_type": "code",
   "execution_count": 10,
   "metadata": {
    "scrolled": true
   },
   "outputs": [
    {
     "name": "stdout",
     "output_type": "stream",
     "text": [
      "SOCIB is managing a total of 135 standard variables\n"
     ]
    },
    {
     "data": {
      "text/html": [
       "<table border=\"1\"><thead><tr><th>code</th><th>name</th><th>description</th><th>ref_uri</th><th>type</th><th>canonical_units</th></tr></thead><tbody><tr><td>650nm_scattering_in_sea_water</td><td>650nm scattering in sea water</td><td>None</td><td>http://api.socib.es/conventions/ARGO</td><td>http://api.socib.es/standard-variable-types/Biogeochemistry</td><td>counts</td></tr><tr><td>acyclic_current_direction</td><td>Acyclic current direction</td><td>None</td><td>http://api.socib.es/conventions/SCB</td><td>http://api.socib.es/standard-variable-types/Ocean%20Dynamics</td><td>degree</td></tr><tr><td>acyclic_wind_direction</td><td>Acyclic wind direction</td><td>None</td><td>http://api.socib.es/conventions/SCB</td><td>http://api.socib.es/standard-variable-types/Atmosphere%20Dynamics</td><td>degree</td></tr><tr><td>air_pressure</td><td>Air pressure</td><td>None</td><td>http://api.socib.es/conventions/CF</td><td>http://api.socib.es/standard-variable-types/Atmosphere%20Dynamics</td><td>Pa</td></tr><tr><td>air_pressure_at_sea_level</td><td>Air pressure at sea level</td><td>sea_level means mean sea level, which is close to the geoid in sea areas. Air pressure at sea level is the quantity often abbreviated as MSLP or PMSL.</td><td>http://api.socib.es/conventions/CF</td><td>http://api.socib.es/standard-variable-types/Atmosphere%20Dynamics</td><td>Pa</td></tr><tr><td>air_temperature</td><td>Air temperature</td><td>Air temperature is the bulk temperature of the air, not the surface (skin) temperature.</td><td>http://api.socib.es/conventions/CF</td><td>http://api.socib.es/standard-variable-types/Atmosphere%20Dynamics</td><td>K</td></tr><tr><td>altimeter_range</td><td>Altimeter range</td><td>An altimeter operates by sending out a short pulse of radiation and measuring the time required for the pulse to return from the sea surface; this measurement is used to calculate the distance between the instrument and the sea surface.  That measurement is called the &quot;altimeter range&quot; and does not include any range corrections.</td><td>http://api.socib.es/conventions/CF</td><td>http://api.socib.es/standard-variable-types/Surface</td><td>m</td></tr><tr><td>altitude</td><td>Altitude</td><td>Altitude is the (geometric) height above the geoid, which is the reference geopotential surface. The geoid is similar to mean sea level.</td><td>http://api.socib.es/conventions/CF</td><td>None</td><td>m</td></tr><tr><td>backscattering_ratio</td><td>Backscattering ratio</td><td>Scattering of radiation is its deflection from its incident path without loss of energy.  Backwards scattering refers to the sum of scattering into all backward angles i.e. scattering_angle exceeding pi/2 radians. A scattering_angle should not be specified with this quantity.  &quot;Backscattering ratio&quot; is the ratio of the  quantity with standard name volume_attenuated_backwards_scattering_function_in_air to the quantity with standard name volume_attenuated_backwards_scattering_function_in_air_assuming_no_aerosol_or_cloud.</td><td>http://api.socib.es/conventions/CF</td><td>None</td><td> 1 </td></tr><tr><td>bad_detects_awac</td><td>Bad detects awac</td><td>Number of bad detections. Description taken from AWAC wap files.&lt;br&gt;</td><td>http://api.socib.es/conventions/SCB</td><td>None</td><td> </td></tr><tr><td>barotropic_eastward_sea_water_velocity</td><td>Barotropic eastward sea water velocity</td><td>A velocity is a vector quantity. &quot;Eastward&quot; indicates a vector component which is positive when directed eastward (negative westward).</td><td>http://api.socib.es/conventions/CF</td><td>http://api.socib.es/standard-variable-types/Ocean%20Dynamics</td><td>m s-1</td></tr><tr><td>barotropic_northward_sea_water_velocity</td><td>Barotropic northward sea water velocity</td><td>A velocity is a vector quantity. &quot;Northward&quot; indicates a vector component which is positive when directed northward (negative southward).</td><td>http://api.socib.es/conventions/CF</td><td>http://api.socib.es/standard-variable-types/Ocean%20Dynamics</td><td>m s-1</td></tr><tr><td>chl_a_fluorescence</td><td>Chl a fluorescence</td><td>&lt;span dir=&quot;ltr&quot; style=&quot;text-align: left;&quot; id=&quot;:2y.co&quot; class=&quot;tL8wMe EMoHub&quot;&gt;&amp;nbsp;In vivo fluorescence measured using a fluorometer (Seapoint sensor, FLSP) &lt;/span&gt;</td><td>http://api.socib.es/conventions/SCB</td><td>http://api.socib.es/standard-variable-types/Biogeochemistry</td><td>ug L-1</td></tr><tr><td>codar_quality_control</td><td>Codar quality control</td><td>Codar hf radar quality control for eastward and northward sea water velocity, and covariance quality</td><td>http://api.socib.es/conventions/SCB</td><td>None</td><td>1</td></tr><tr><td>colored_dissolved_organic_matter_in_sea_water</td><td>Colored dissolved organic matter in sea water</td><td>None</td><td>http://api.socib.es/conventions/ARGO</td><td>http://api.socib.es/standard-variable-types/Biogeochemistry</td><td>counts</td></tr><tr><td>current_target_latitude</td><td>Current target latitude</td><td>None</td><td>http://api.socib.es/conventions/SCB</td><td>http://api.socib.es/standard-variable-types/Coordinate</td><td>degree</td></tr><tr><td>current_target_longitude</td><td>Current target longitude</td><td>None</td><td>http://api.socib.es/conventions/SCB</td><td>http://api.socib.es/standard-variable-types/Coordinate</td><td>degree</td></tr><tr><td>depth</td><td>Depth</td><td>Depth is the vertical distance below the surface.</td><td>http://api.socib.es/conventions/CF</td><td>http://api.socib.es/standard-variable-types/Coordinate</td><td>m</td></tr><tr><td>depth_slev</td><td>Depth slev</td><td>Depth_slev is the vertical distance below the surface, used to calculate the sea level, or to indicate that the vertical distance is referenced to the sea level (not geographical coordinates).&lt;br&gt;</td><td>http://api.socib.es/conventions/SCB</td><td>http://api.socib.es/standard-variable-types/Coordinate</td><td>m</td></tr><tr><td>dew_point_temperature</td><td>Dew point temperature</td><td>Dew point temperature is the temperature at which a parcel of air reaches saturation upon being cooled at constant pressure and specific humidity.</td><td>http://api.socib.es/conventions/CF</td><td>http://api.socib.es/standard-variable-types/Atmosphere%20Dynamics</td><td>K</td></tr><tr><td>direction_of_sea_water_velocity</td><td>Direction of sea water velocity</td><td>&quot;direction_of_X&quot; means direction of a vector, a bearing. A velocity is a vector quantity.</td><td>http://api.socib.es/conventions/CF</td><td>http://api.socib.es/standard-variable-types/Ocean%20Dynamics</td><td>degree</td></tr><tr><td>direction_of_sea_water_velocity_on_sea_floor</td><td>Direction of sea water velocity on sea floor</td><td>&quot;direction_of_X&quot; means direction of a vector, a bearing. A velocity is a vector quantity.</td><td>http://api.socib.es/conventions/SCB</td><td>http://api.socib.es/standard-variable-types/Ocean%20Dynamics</td><td>degree</td></tr><tr><td>dissolved_oxygen_in_sea_water</td><td>Dissolved oxygen in sea water</td><td>DOXY would contain the dissolved oxygen value in Âµmol/kg. In DOXY, we would&amp;nbsp;correct for temperature, pressure and salinity effects by using the real-time PRES, TEMP and&amp;nbsp;&lt;div&gt;&lt;br&gt;&lt;/div&gt;&lt;div&gt;PSAL fields DOXY_ADJUSTED would contain the DOXY values corrected from any drift or offset of&amp;nbsp; the DO, pressure, salinity or temperature sensors. While DOXY is estimated from PRES, &amp;nbsp;- 2 - TEMP and PSAL, DOXY_ADJUSTED would be estimated from PRES_ADJUSTED,&amp;nbsp;TEMP_ADJUSTED and PSAL_ADJUSTED.&lt;/div&gt;</td><td>http://api.socib.es/conventions/ARGO</td><td>http://api.socib.es/standard-variable-types/Biogeochemistry</td><td>umol kg-1</td></tr><tr><td>downwelling_photosynthetic_photon_flux_in_sea_water</td><td>Downwelling photosynthetic photon flux in sea water</td><td>Downwelling radiation is radiation from above. It does not mean &quot;net downward&quot;. &quot;Photosynthetic&quot; radiation is the part of the spectrum which is used in photosynthesis e.g. 300-700 nm. The range of wavelengths could be specified precisely by the bounds of a coordinate of radiation_wavelength. A photon flux is specified in terms of numbers of photons expressed in moles. In accordance with common usage in geophysical disciplines, &quot;flux&quot; implies per unit area, called &quot;flux density&quot; in physics.</td><td>http://api.socib.es/conventions/CF</td><td>http://api.socib.es/standard-variable-types/Radiation</td><td>mol m-2 s-1</td></tr><tr><td>downwelling_radiative_flux_in_sea_water</td><td>Downwelling radiative flux in sea water</td><td>Downwelling radiation is radiation from above. It does not mean &quot;net downward&quot;. Radiative flux is the sum of shortwave and longwave radiative fluxes. When thought of as being incident on a surface, a radiative flux is sometimes called &quot;irradiance&quot;. In addition, it is identical with the quantity measured by a cosine-collector light-meter and sometimes called &quot;vector irradiance&quot;. In accordance with common usage in geophysical disciplines, &quot;flux&quot; implies per unit area, called &quot;flux density&quot; in physics.</td><td>http://api.socib.es/conventions/CF</td><td>http://api.socib.es/standard-variable-types/Radiation</td><td>W m-2</td></tr><tr><td>eastward_sea_water_velocity</td><td>Eastward sea water velocity</td><td>A velocity is a vector quantity. &quot;Eastward&quot; indicates a vector component which is positive when directed eastward (negative westward).</td><td>http://api.socib.es/conventions/CF</td><td>http://api.socib.es/standard-variable-types/Ocean%20Dynamics</td><td>m s-1</td></tr><tr><td>eastward_sea_water_velocity_on_sea_floor</td><td>Eastward sea water velocity on sea floor</td><td>A velocity is a vector quantity. &quot;Eastward&quot; indicates a vector component which is positive when directed eastward (negative westward).</td><td>http://api.socib.es/conventions/SCB</td><td>http://api.socib.es/standard-variable-types/Ocean%20Dynamics</td><td>m s-1</td></tr><tr><td>eastward_wind</td><td>Eastward wind</td><td>&quot;Eastward&quot; indicates a vector component which is positive when directed eastward (negative westward). Wind is defined as a two-dimensional (horizontal) air velocity vector, with no vertical component. (Vertical motion in the atmosphere has the standard name upward_air_velocity.)</td><td>http://api.socib.es/conventions/CF</td><td>http://api.socib.es/standard-variable-types/Atmosphere%20Dynamics</td><td>m s-1</td></tr><tr><td>error_code_awac</td><td>Error code awac</td><td>&lt;span style=&quot;color: rgb(13, 46, 105); font-family: &amp;quot;Helvetica Neue&amp;quot;, Arial, Helvetica, sans-serif; font-size: 15px; background-color: rgb(255, 255, 255);&quot;&gt;The &quot;Error codes&quot; provide an indication of when a wave burst measurement may be doubtful in one aspect or another. &amp;nbsp;Even though these are designated as &quot;Error Codes&quot; they may be more thought of as a type of warning.&lt;/span&gt;&lt;div&gt;&lt;span style=&quot;color: rgb(13, 46, 105); font-family: &amp;quot;Helvetica Neue&amp;quot;, Arial, Helvetica, sans-serif; font-size: 15px; background-color: rgb(255, 255, 255);&quot;&gt;&lt;br&gt;&lt;/span&gt;&lt;/div&gt;&lt;div&gt;&lt;a href=&quot;https://support.nortekgroup.com/hc/en-us/articles/360029507112-What-do-the-AWAC-Error-Codes-mean-&quot;&gt;https://support.nortekgroup.com/hc/en-us/articles/360029507112-What-do-the-AWAC-Error-Codes-mean-&lt;/a&gt;&lt;/div&gt;</td><td>http://api.socib.es/conventions/SCB</td><td>None</td><td> </td></tr><tr><td>error_sea_water_velocity</td><td>Error sea water velocity</td><td>RDI&#x27;s four-beam ADCP incorporates a unique data quality measure called Error Velocity, something not\n",
       "possible with three-beam systems.\n",
       "Three dimensional velocity calculations assume that the beams are all seeing the same flow field. Error\n",
       "Velocity evaluates how well this assumption is being met, providing a quantitative base for QA/QC at\n",
       "each depth layer of each ping.</td><td>http://api.socib.es/conventions/SCB</td><td>http://api.socib.es/standard-variable-types/Ocean%20Dynamics</td><td>m s-1</td></tr><tr><td>error_sea_water_velocity_on_sea_floor</td><td>Error sea water velocity on sea floor</td><td>RDI&#x27;s four-beam ADCP incorporates a unique data quality measure called Error Velocity, something not\n",
       "possible with three-beam systems.\n",
       "Three dimensional velocity calculations assume that the beams are all seeing the same flow field. Error\n",
       "Velocity evaluates how well this assumption is being met, providing a quantitative base for QA/QC at\n",
       "each depth layer of each ping.</td><td>http://api.socib.es/conventions/SCB</td><td>http://api.socib.es/standard-variable-types/Ocean%20Dynamics</td><td>m s-1</td></tr><tr><td>fractional_saturation_of_oxygen_in_sea_water</td><td>Fractional saturation of oxygen in sea water</td><td>Fractional saturation is the ratio of some measure of concentration to the saturated value of the same quantity.</td><td>http://api.socib.es/conventions/CF</td><td>http://api.socib.es/standard-variable-types/Hydrology</td><td>1</td></tr><tr><td>global_average_sea_level_change</td><td>Global average sea level change</td><td>Global average sea level change is due to change in volume of the water in the ocean, caused by mass and/or density change, or to change in the volume of the ocean basins, caused by tectonics etc. It is sometimes called &quot;eustatic&quot;, which is a term that also has other definitions. It differs from the change in the global average sea surface height relative to the centre of the Earth by the global average vertical movement of the ocean floor. Zero sea level change is an arbitrary level.</td><td>http://api.socib.es/conventions/CF</td><td>http://api.socib.es/standard-variable-types/Ocean%20Dynamics</td><td>m</td></tr><tr><td>gradient</td><td>Gradient</td><td>None</td><td>http://api.socib.es/conventions/SCB</td><td>http://api.socib.es/standard-variable-types/Ocean%20Dynamics</td><td> </td></tr><tr><td>grid_latitude</td><td>Grid latitude</td><td>Latitude is positive northward; its units of degree_north (or equivalent) indicate this explicitly. In a latitude-longitude system defined with respect to a rotated North Pole, the standard name of grid_latitude should be used instead of latitude. Grid latitude is positive in the grid-northward direction, but its units should be plain degree.</td><td>http://api.socib.es/conventions/CF</td><td>http://api.socib.es/standard-variable-types/Coordinate</td><td>degree</td></tr><tr><td>grid_longitude</td><td>Grid longitude</td><td>Longitude is positive eastward; its units of degree_east (or equivalent) indicate this explicitly. In a latitude-longitude system defined with respect to a rotated North Pole, the standard name of grid_longitude should be used instead of longitude. Grid longitude is positive in the grid-eastward direction, but its units should be plain degree.</td><td>http://api.socib.es/conventions/CF</td><td>http://api.socib.es/standard-variable-types/Coordinate</td><td>degree</td></tr><tr><td>heat_index</td><td>Heat index</td><td>&lt;span style=&quot;font-family: sans-serif; font-size: 14px; line-height: 22.4px; background-color: rgb(255, 255, 255);&quot;&gt;Combines&amp;nbsp;&lt;/span&gt;&lt;a href=&quot;https://en.wikipedia.org/wiki/Air&quot; class=&quot;mw-redirect&quot; title=&quot;Air&quot; style=&quot;text-decoration: none; font-family: sans-serif; font-size: 14px; line-height: 22.4px; background-image: none; background-attachment: initial; background-color: rgb(255, 255, 255); background-size: initial; background-origin: initial; background-clip: initial; background-position: initial; background-repeat: initial;&quot;&gt;air&lt;/a&gt;&lt;span style=&quot;font-family: sans-serif; font-size: 14px; line-height: 22.4px; background-color: rgb(255, 255, 255);&quot;&gt;&amp;nbsp;&lt;/span&gt;&lt;a href=&quot;https://en.wikipedia.org/wiki/Temperature&quot; title=&quot;Temperature&quot; style=&quot;text-decoration: none; font-family: sans-serif; font-size: 14px; line-height: 22.4px; background-image: none; background-attachment: initial; background-color: rgb(255, 255, 255); background-size: initial; background-origin: initial; background-clip: initial; background-position: initial; background-repeat: initial;&quot;&gt;temperature&lt;/a&gt;&lt;span style=&quot;font-family: sans-serif; font-size: 14px; line-height: 22.4px; background-color: rgb(255, 255, 255);&quot;&gt;&amp;nbsp;and&amp;nbsp;&lt;/span&gt;&lt;a href=&quot;https://en.wikipedia.org/wiki/Relative_humidity&quot; title=&quot;Relative humidity&quot; style=&quot;text-decoration: none; font-family: sans-serif; font-size: 14px; line-height: 22.4px; background-image: none; background-attachment: initial; background-color: rgb(255, 255, 255); background-size: initial; background-origin: initial; background-clip: initial; background-position: initial; background-repeat: initial;&quot;&gt;relative humidity&lt;/a&gt;&lt;span style=&quot;font-family: sans-serif; font-size: 14px; line-height: 22.4px; background-color: rgb(255, 255, 255);&quot;&gt;, in shaded areas, as an attempt to determine the human-perceived equivalent temperature, as how hot it would feel if the humidity were some other value in the shade.&lt;/span&gt;</td><td>http://api.socib.es/conventions/SCB</td><td>http://api.socib.es/standard-variable-types/Atmosphere%20Dynamics</td><td>C</td></tr><tr><td>height</td><td>Height</td><td>Height is the vertical distance above the surface.</td><td>http://api.socib.es/conventions/CF</td><td>http://api.socib.es/standard-variable-types/Hydrology</td><td>m</td></tr><tr><td>height_above_sea_floor</td><td>Height above sea floor</td><td>None</td><td>http://api.socib.es/conventions/CF</td><td>http://api.socib.es/standard-variable-types/Surface</td><td>m</td></tr><tr><td>land_binary_mask</td><td>Land binary mask</td><td>X_binary_mask has 1 where condition X is met, 0 elsewhere. 1 = land, 0 = sea.</td><td>http://api.socib.es/conventions/CF</td><td>None</td><td>1</td></tr><tr><td>latitude</td><td>Latitude</td><td>Latitude is positive northward; its units of degree_north (or equivalent) indicate this explicitly. In a latitude-longitude system defined with respect to a rotated North Pole, the standard name of grid_latitude should be used instead of latitude. Grid latitude is positive in the grid-northward direction, but its units should be plain degree.</td><td>http://api.socib.es/conventions/CF</td><td>http://api.socib.es/standard-variable-types/Coordinate</td><td>degree_north</td></tr><tr><td>longitude</td><td>Longitude</td><td>Longitude is positive eastward; its units of degree_east (or equivalent) indicate this explicitly. In a latitude-longitude system defined with respect to a rotated North Pole, the standard name of grid_longitude should be used instead of longitude. Grid longitude is positive in the grid-eastward direction, but its units should be plain degree.</td><td>http://api.socib.es/conventions/CF</td><td>http://api.socib.es/standard-variable-types/Coordinate</td><td>degree_east</td></tr><tr><td>lwe_precipitation_rate</td><td>Lwe precipitation rate</td><td>&quot;lwe&quot; means liquid water equivalent.</td><td>http://api.socib.es/conventions/CF</td><td>http://api.socib.es/standard-variable-types/Hydrology</td><td>m s-1</td></tr><tr><td>lwe_thickness_of_precipitation_amount</td><td>Lwe thickness of precipitation amount</td><td>&quot;lwe&quot; means liquid water equivalent. &quot;Amount&quot; means mass per unit area. The construction lwe_thickness_of_X_amount or _content means the vertical extent of a layer of liquid water having the same mass per unit area.</td><td>http://api.socib.es/conventions/CF</td><td>http://api.socib.es/standard-variable-types/Hydrology</td><td>m</td></tr><tr><td>mass_concentration_of_chlorophyll_a_in_sea_water</td><td>Mass concentration of chlorophyll a in sea water</td><td>  &#x27;Mass concentration&#x27; means mass per unit volume and is used in the construction mass_concentration_of_X_in_Y, where X is a material constituent of Y.  A chemical or biological species denoted by X may be described by a single term such as &#x27;nitrogen&#x27; or a phrase such as &#x27;nox_expressed_as_nitrogen&#x27;. Chlorophyll is the green pigment found inmost plants, algae and cyanobacteria.  The presence of chlorophyll is essential for photosynthesis to take place.  There are five different forms of chlorophyll that occur naturally.  All contain a chlorin ring (chemical formula C20H16N4) which gives the green pigment and a side chain whose structure varies.  The naturally occurring forms of chlorophyll contain between 35 and 55 carbon atoms. Chlorophyll-a is the most commonly occurring form of natural chlorophyll.  The chemical formula of chlorophyll-a is C55H72O5N4Mg.</td><td>http://api.socib.es/conventions/CF</td><td>http://api.socib.es/standard-variable-types/Biogeochemistry</td><td>kg m-3</td></tr><tr><td>mass_concentration_of_chlorophyll_in_sea_water</td><td>Mass concentration of chlorophyll in sea water</td><td> Mass concentration means mass per unit volume and is used in the construction mass_concentration_of_X_in_Y, where X is a material constituent of Y.  A chemical species denoted by X may be described by a single term such as &#x27;nitrogen&#x27; or a phrase such as &#x27;nox_expressed_as_nitrogen&#x27;. Chlorophyll is the green pigment found in most plants, algae and cyanobacteria.  The presence of chlorophyll is essential for photosynthesis to take place.  There are five different forms of chlorophyll that occur naturally.  All contain a chlorin ring (chemical formula C20H16N4) which gives the green pigment and a side chain whose structure varies.  The naturally occurring forms of chlorophyll contain between 35 and 55 carbon atoms.</td><td>http://api.socib.es/conventions/CF</td><td>http://api.socib.es/standard-variable-types/Biogeochemistry</td><td> kg m-3</td></tr><tr><td>mass_concentration_of_oxygen_in_sea_water</td><td>Mass concentration of oxygen in sea water</td><td>Mass concentration means mass per unit volume and is used in the construction mass_concentration_of_X_in_Y, where X is a material constituent of Y.</td><td>http://api.socib.es/conventions/CF</td><td>http://api.socib.es/standard-variable-types/Hydrology</td><td>kg m-3</td></tr><tr><td>mole_concentration_of_nitrate_in_sea_water</td><td>Mole concentration of nitrate in sea water</td><td>Mole concentration means moles (amount of substance) per unit volume and is used in the construction mole_concentration_of_X_in_Y, where X is a material constituent of Y.</td><td>http://api.socib.es/conventions/CF</td><td>http://api.socib.es/standard-variable-types/Biogeochemistry</td><td>mol m-3</td></tr><tr><td>mole_concentration_of_phosphate_in_sea_water</td><td>Mole concentration of phosphate in sea water</td><td> Mole concentration means number of moles per unit volume, also called &quot;molarity&quot;, and is used in the construction mole_concentration_of_X_in_Y, where X is a material constituent of Y.  A chemical species denoted by X may be described by a single term such as &#x27;nitrogen&#x27; or a phrase such as &#x27;nox_expressed_as_nitrogen&#x27;.</td><td>http://api.socib.es/conventions/CF</td><td>http://api.socib.es/standard-variable-types/Biogeochemistry</td><td> mol m-3</td></tr><tr><td>moles_of_nitrite_per_unit_mass_in_sea_water</td><td>Moles of nitrite per unit mass in sea water</td><td>moles_of_X_per_unit_mass_inY is also called &quot;molality&quot; of X in Y, where X is a material constituent of Y.</td><td>http://api.socib.es/conventions/CF</td><td>http://api.socib.es/standard-variable-types/Biogeochemistry</td><td>mol kg-1</td></tr><tr><td>no_detects_awac</td><td>No detects awac</td><td>Number of no-detections, taken from an awac wap file.&lt;br&gt;</td><td>http://api.socib.es/conventions/SCB</td><td>None</td><td> </td></tr><tr><td>northward_sea_water_velocity</td><td>Northward sea water velocity</td><td>A velocity is a vector quantity. &quot;Northward&quot; indicates a vector component which is positive when directed northward (negative southward).</td><td>http://api.socib.es/conventions/CF</td><td>http://api.socib.es/standard-variable-types/Ocean%20Dynamics</td><td>m s-1</td></tr><tr><td>northward_sea_water_velocity_on_sea_floor</td><td>Northward sea water velocity on sea floor</td><td>A velocity is a vector quantity. &quot;Northward&quot; indicates a vector component which is positive when directed northward (negative southward).</td><td>http://api.socib.es/conventions/SCB</td><td>http://api.socib.es/standard-variable-types/Ocean%20Dynamics</td><td>m s-1</td></tr><tr><td>northward_wind</td><td>Northward wind</td><td>&quot;Northward&quot; indicates a vector component which is positive when directed northward (negative southward). Wind is defined as a two-dimensional (horizontal) air velocity vector, with no vertical component. (Vertical motion in the atmosphere has the standard name upward_air_velocity.)</td><td>http://api.socib.es/conventions/CF</td><td>http://api.socib.es/standard-variable-types/Atmosphere%20Dynamics</td><td>m s-1</td></tr><tr><td>ocean_s_coordinate</td><td>Ocean s coordinate</td><td>See Appendix D of the CF convention for information about dimensionless vertical coordinates.</td><td>http://api.socib.es/conventions/CF</td><td>http://api.socib.es/standard-variable-types/Coordinate</td><td>1</td></tr><tr><td>ocean_sigma_coordinate</td><td>Ocean sigma coordinate</td><td>See Appendix D of the CF convention for information about dimensionless vertical coordinates. Note that the ocean sigma coordinate is not the same quantity as sea water sigma (excess of density over 1000 kg m-3), for which there are various other standard names.</td><td>http://api.socib.es/conventions/CF</td><td>http://api.socib.es/standard-variable-types/Coordinate</td><td>1</td></tr><tr><td>oxygen_reduction_potential</td><td>Oxygen reduction potential</td><td>None</td><td>http://api.socib.es/conventions/SCB</td><td>http://api.socib.es/standard-variable-types/Hydrology</td><td>mV</td></tr><tr><td>profile_id</td><td>Profile id</td><td>None</td><td>http://api.socib.es/conventions/SCB</td><td>None</td><td>1</td></tr><tr><td>rain_accumulation</td><td>Rain accumulation</td><td>None</td><td>http://api.socib.es/conventions/SCB</td><td>http://api.socib.es/standard-variable-types/Hydrology</td><td>mm</td></tr><tr><td>rain_duration</td><td>Rain duration</td><td>None</td><td>http://api.socib.es/conventions/SCB</td><td>http://api.socib.es/standard-variable-types/Hydrology</td><td>s</td></tr><tr><td>rainfall_amount</td><td>Rainfall amount</td><td>&quot;Amount&quot; means mass per unit area.</td><td>http://api.socib.es/conventions/CF</td><td>http://api.socib.es/standard-variable-types/Hydrology</td><td>kg m-2</td></tr><tr><td>rain_intensity</td><td>Rain intensity</td><td>None</td><td>http://api.socib.es/conventions/SCB</td><td>http://api.socib.es/standard-variable-types/Hydrology</td><td>mm h-1</td></tr><tr><td>rain_peak_intensity</td><td>Rain peak intensity</td><td>None</td><td>http://api.socib.es/conventions/SCB</td><td>http://api.socib.es/standard-variable-types/Hydrology</td><td>mm h-1</td></tr><tr><td>relative_humidity</td><td>Relative humidity</td><td>None</td><td>http://api.socib.es/conventions/CF</td><td>http://api.socib.es/standard-variable-types/Hydrology</td><td>1</td></tr><tr><td>sea_floor_depth_below_sea_surface_beam1</td><td>Sea floor depth below sea surface beam1</td><td>The sea_floor_depth_below_sea_surface is the vertical distance between the sea surface and the seabed as measured at a given point in space including the variance caused by tides and possibly waves.</td><td>http://api.socib.es/conventions/SCB</td><td>http://api.socib.es/standard-variable-types/Surface</td><td>m</td></tr><tr><td>sea_floor_depth_below_sea_surface_beam2</td><td>Sea floor depth below sea surface beam2</td><td>The sea_floor_depth_below_sea_surface is the vertical distance between the sea surface and the seabed as measured at a given point in space including the variance caused by tides and possibly waves.</td><td>http://api.socib.es/conventions/CF</td><td>http://api.socib.es/standard-variable-types/Surface</td><td>m</td></tr><tr><td>sea_floor_depth_below_sea_surface_beam3</td><td>Sea floor depth below sea surface beam3</td><td>The sea_floor_depth_below_sea_surface is the vertical distance between the sea surface and the seabed as measured at a given point in space including the variance caused by tides and possibly waves.</td><td>http://api.socib.es/conventions/CF</td><td>http://api.socib.es/standard-variable-types/Surface</td><td>m</td></tr><tr><td>sea_floor_depth_below_sea_surface_beam4</td><td>Sea floor depth below sea surface beam4</td><td>The sea_floor_depth_below_sea_surface is the vertical distance between the sea surface and the seabed as measured at a given point in space including the variance caused by tides and possibly waves.</td><td>http://api.socib.es/conventions/CF</td><td>http://api.socib.es/standard-variable-types/Surface</td><td>m</td></tr><tr><td>sea_floor_minimum_depth_below_sea_surface_among_beams</td><td>Sea floor minimum depth below sea surface among beams</td><td>The sea_floor_depth_below_sea_surface is the vertical distance between the sea surface and the seabed as measured at a given point in space including the variance caused by tides and possibly waves.</td><td>http://api.socib.es/conventions/SCB</td><td>http://api.socib.es/standard-variable-types/Surface</td><td>m</td></tr><tr><td>sea_surface_height_above_geoid</td><td>Sea surface height above geoid</td><td>The geoid is a surface of constant geopotential with which mean sea level would coincide if the ocean were at rest. (The volume enclosed between the geoid and the sea floor equals the mean volume of water in the ocean.) In an ocean GCM the geoid is the surface of zero depth, or the rigid lid if the model uses that approximation. &quot;Sea surface height&quot; is a time-varying quantity. By definition of the geoid, the global average of the time-mean sea surface height (i.e. mean sea level) above the geoid must be zero. The standard name for the height of the sea surface above mean sea level is sea_surface_height_above_sea_level. The standard name for the height of the sea surface above the reference ellipsoid is sea_surface_height_above_reference_ellipsoid.</td><td>http://api.socib.es/conventions/CF</td><td>http://api.socib.es/standard-variable-types/Surface</td><td>m</td></tr><tr><td>sea_surface_height_above_sea_level</td><td>Sea surface height above sea level</td><td>sea_level means mean sea level, which is close to the geoid in sea areas. &quot;Sea surface height&quot; is a time-varying quantity. The standard name for the height of the sea surface above the geoid is sea_surface_height_above_geoid. The standard name for the height of the sea surface above the reference ellipsoid is sea_surface_height_above_reference_ellipsoid.</td><td>http://api.socib.es/conventions/CF</td><td>http://api.socib.es/standard-variable-types/Surface</td><td>m</td></tr><tr><td>sea_surface_swell_wave_period</td><td>Sea surface swell wave period</td><td>A period is an interval of time, or the time-period of an oscillation. Swell waves are waves on the ocean surface.</td><td>http://api.socib.es/conventions/CF</td><td>http://api.socib.es/standard-variable-types/Surface</td><td>s</td></tr><tr><td>sea_surface_swell_wave_zero_upcrossing_period</td><td>Sea surface swell wave zero upcrossing period</td><td>A period is an interval of time, or the time-period of an oscillation. The zero upcrossing period is defined as the time interval between consecutive occasions on which the surface height passes upward above the mean level. Swell waves are waves on the ocean surface.</td><td>http://api.socib.es/conventions/CF</td><td>http://api.socib.es/standard-variable-types/Surface</td><td>s</td></tr><tr><td>sea_surface_wave_from_direction</td><td>Sea surface wave from direction</td><td>&quot;from_direction&quot; is used in the construction X_from_direction and indicates the direction from which the velocity vector of X is coming.</td><td>http://api.socib.es/conventions/CF</td><td>http://api.socib.es/standard-variable-types/Surface</td><td>degree</td></tr><tr><td>sea_surface_wave_max_height</td><td>Sea surface wave max height</td><td>Altura mÃ¡xima de oleaje</td><td>http://api.socib.es/conventions/SCB</td><td>http://api.socib.es/standard-variable-types/Surface</td><td>m</td></tr><tr><td>sea_surface_wave_maximum_height</td><td>Sea surface wave maximum height</td><td>Wave height is defined as the vertical distance from a wave trough to the following wave crest. The maximum wave height is the greatest trough to crest distance measured during the observation period.</td><td>http://api.socib.es/conventions/CF</td><td>http://api.socib.es/standard-variable-types/Surface</td><td>m</td></tr><tr><td>sea_surface_wave_maximum_period</td><td>Sea surface wave maximum period</td><td>A period is an interval of time, or the time-period of an oscillation.</td><td>http://api.socib.es/conventions/SCB</td><td>http://api.socib.es/standard-variable-types/Surface</td><td>s</td></tr><tr><td>sea_surface_wave_mean_directional_dispersion</td><td>Sea surface wave mean directional dispersion</td><td>Sea surface wave mean directional dispersion is the mean directional dispersion in degrees of the sea surface waves.</td><td>http://api.socib.es/conventions/SCB</td><td>http://api.socib.es/standard-variable-types/Surface</td><td>degree</td></tr><tr><td>sea_surface_wave_mean_height</td><td>Sea surface wave mean height</td><td>Altura de ola promedio</td><td>http://api.socib.es/conventions/SCB</td><td>http://api.socib.es/standard-variable-types/Surface</td><td>m</td></tr><tr><td>sea_surface_wave_mean_period</td><td>Sea surface wave mean period</td><td>A period is an interval of time, or the time-period of an oscillation.</td><td>http://api.socib.es/conventions/SCB</td><td>http://api.socib.es/standard-variable-types/Surface</td><td>s</td></tr><tr><td>sea_surface_wave_mean_period_from_variance_spectral_density_second_frequency_moment</td><td>Sea surface wave mean period from variance spectral density second frequency moment</td><td>The wave directional spectrum can be written as a  five dimensional function S(t,x,y,f,theta) where t is time, x and y are horizontal coordinates (such as longitude and latitude), f is frequency and theta is direction.  S has the standard name sea_surface_wave_directional_variance_spectral_density.  S can be integrated over direction to give S1= integral(S dtheta) and this quantity has the standard name sea_surface_wave_variance_spectral_density.  Frequency moments, M(n) of S1 can then be calculated as follows: M(n) = integral(S1 f^n df), where f^n is f to the power of n.  The second wave period, T(m2) is calculated as the square root of the ratio M(0)/M(2).</td><td>http://api.socib.es/conventions/CF</td><td>http://api.socib.es/standard-variable-types/Surface</td><td>s</td></tr><tr><td>sea_surface_wave_peak_direction</td><td>Sea surface wave peak direction</td><td>None</td><td>http://api.socib.es/conventions/SCB</td><td>http://api.socib.es/standard-variable-types/Surface</td><td>s</td></tr><tr><td>sea_surface_wave_peak_period</td><td>Sea surface wave peak period</td><td>Periodo de pico Tp</td><td>http://api.socib.es/conventions/SCB</td><td>http://api.socib.es/standard-variable-types/Surface</td><td>s</td></tr><tr><td>sea_surface_wave_period_at_variance_spectral_density_maximum</td><td>Sea surface wave period at variance spectral density maximum</td><td>A period is an interval of time, or the time-period of an oscillation.  The sea_surface_wave_period_at_variance_spectral_density_maximum, sometimes called peak wave period, is the period of the most energetic waves in the total wave spectrum at a specific location.</td><td>http://api.socib.es/conventions/CF</td><td>http://api.socib.es/standard-variable-types/Surface</td><td>s</td></tr><tr><td>sea_surface_wave_period_at_wave_energy_peak</td><td>Sea surface wave period at wave energy peak</td><td>None</td><td>http://api.socib.es/conventions/SCB</td><td>http://api.socib.es/standard-variable-types/Surface</td><td>s</td></tr><tr><td>sea_surface_wave_period_of_highest_wave</td><td>Sea surface wave period of highest wave</td><td>Wave period of the highest wave is the period determined from wave crests corresponding to the greatest vertical distance above mean level during the observation period. A period is an interval of time, or the time-period of an oscillation. Wave period is the interval of time between repeated features on the waveform such as crests, troughs or upward passes through the mean level.</td><td>http://api.socib.es/conventions/CF</td><td>http://api.socib.es/standard-variable-types/Surface</td><td>s</td></tr><tr><td>sea_surface_wave_significant_height</td><td>Sea surface wave significant height</td><td>Height is the vertical distance above the surface.</td><td>http://api.socib.es/conventions/CF</td><td>http://api.socib.es/standard-variable-types/Surface</td><td>m</td></tr><tr><td>sea_surface_wave_significant_period</td><td>Sea surface wave significant period</td><td>A period is an interval of time, or the time-period of an oscillation.</td><td>http://api.socib.es/conventions/SCB</td><td>http://api.socib.es/standard-variable-types/Surface</td><td>s</td></tr><tr><td>sea_surface_wave_to_direction</td><td>Sea surface wave to direction</td><td>&quot;to_direction&quot; is used in the construction X_to_direction and indicates the direction towards which the velocity vector of X is headed.</td><td>http://api.socib.es/conventions/CF</td><td>http://api.socib.es/standard-variable-types/Surface</td><td>degree</td></tr><tr><td>sea_surface_wave_zero_upcrossing_period</td><td>Sea surface wave zero upcrossing period</td><td>A period is an interval of time, or the time-period of an oscillation. The zero upcrossing period is defined as the time interval between consecutive occasions on which the surface height passes upward above the mean level.</td><td>http://api.socib.es/conventions/CF</td><td>http://api.socib.es/standard-variable-types/Surface</td><td>s</td></tr><tr><td>sea_water_average_noise_amplitude_among_beams</td><td>Sea water average noise amplitude among beams</td><td>None</td><td>http://api.socib.es/conventions/SCB</td><td>http://api.socib.es/standard-variable-types/Ocean%20Dynamics</td><td>counts</td></tr><tr><td>sea_water_density</td><td>Sea water density</td><td>Sea water density is the in-situ density (not the potential density). If 1000 kg m-3 is subtracted, the standard name sea_water_sigma_t should be chosen instead.</td><td>http://api.socib.es/conventions/CF</td><td>http://api.socib.es/standard-variable-types/Hydrology</td><td>kg m-3</td></tr><tr><td>sea_water_electrical_conductivity</td><td>Sea water electrical conductivity</td><td>None</td><td>http://api.socib.es/conventions/CF</td><td>http://api.socib.es/standard-variable-types/Hydrology</td><td>S m-1</td></tr><tr><td>sea_water_noise_amplitude_beam</td><td>Sea water noise amplitude beam</td><td>None</td><td>http://api.socib.es/conventions/SCB</td><td>http://api.socib.es/standard-variable-types/Ocean%20Dynamics</td><td>counts</td></tr><tr><td>sea_water_noise_amplitude_beam_1</td><td>Sea water noise amplitude beam 1</td><td>None</td><td>http://api.socib.es/conventions/SCB</td><td>http://api.socib.es/standard-variable-types/Ocean%20Dynamics</td><td>counts</td></tr><tr><td>sea_water_noise_amplitude_beam_2</td><td>Sea water noise amplitude beam 2</td><td>None</td><td>http://api.socib.es/conventions/SCB</td><td>http://api.socib.es/standard-variable-types/Ocean%20Dynamics</td><td>counts</td></tr><tr><td>sea_water_noise_amplitude_beam_3</td><td>Sea water noise amplitude beam 3</td><td>None</td><td>http://api.socib.es/conventions/SCB</td><td>http://api.socib.es/standard-variable-types/Ocean%20Dynamics</td><td>counts</td></tr><tr><td>sea_water_noise_amplitude_beam_4</td><td>Sea water noise amplitude beam 4</td><td>None</td><td>http://api.socib.es/conventions/SCB</td><td>http://api.socib.es/standard-variable-types/Ocean%20Dynamics</td><td>counts</td></tr><tr><td>sea_water_particle_distribution_correlation_magnitude_from_acoustic_beams</td><td>Sea water particle distribution correlation magnitude from acoustic beams</td><td>Particle distribution correlation magnitude from ADCP acoustic beams.</td><td>http://api.socib.es/conventions/SCB</td><td>http://api.socib.es/standard-variable-types/Ocean%20Dynamics</td><td>counts</td></tr><tr><td>sea_water_percent_good_pings_1</td><td>Sea water percent good pings 1</td><td>&amp;nbsp;The percentage of good three-beam solutions (one beam\n",
       "rejected).</td><td>http://api.socib.es/conventions/SCB</td><td>http://api.socib.es/standard-variable-types/Ocean%20Dynamics</td><td>%</td></tr><tr><td>sea_water_percent_good_pings_2</td><td>Sea water percent good pings 2</td><td>&amp;nbsp;The percentage of good transformations (error\n",
       "velocity threshold not exceeded).</td><td>http://api.socib.es/conventions/SCB</td><td>http://api.socib.es/standard-variable-types/Ocean%20Dynamics</td><td>%</td></tr><tr><td>sea_water_percent_good_pings_3</td><td>Sea water percent good pings 3</td><td>The percentage of measurements\n",
       "where more than one beam was bad.</td><td>http://api.socib.es/conventions/SCB</td><td>http://api.socib.es/standard-variable-types/Ocean%20Dynamics</td><td>%</td></tr><tr><td>sea_water_percent_good_pings_4</td><td>Sea water percent good pings 4</td><td>The percentage\n",
       "of measurements with four-beam solutions.</td><td>http://api.socib.es/conventions/SCB</td><td>http://api.socib.es/standard-variable-types/Ocean%20Dynamics</td><td>%</td></tr><tr><td>sea_water_percent_good_velocity</td><td>Sea water percent good velocity</td><td>PERG1 + PERG4</td><td>http://api.socib.es/conventions/SCB</td><td>http://api.socib.es/standard-variable-types/Ocean%20Dynamics</td><td>%</td></tr><tr><td>sea_water_ph_reported_on_total_scale</td><td>Sea water ph reported on total scale</td><td> &#x27;sea_water_pH_reported_on_total_scale&#x27; is the measure of acidity of seawater, defined as the negative logarithm of the activity of dissolved hydrogen ions plus bisulfate ions in a sea water medium; it can be measured or calculated; when measured the scale is defined according to a series of buffers prepared in artificial seawater containing bisulfate.  The quantity may be written as pH(total) = -log([H+](free) + [HSO4-]).\n",
       "</td><td>http://api.socib.es/conventions/CF</td><td>None</td><td> 1 </td></tr><tr><td>sea_water_potential_density</td><td>Sea water potential density</td><td>Potential density is the density a parcel of air or sea water would have if moved adiabatically to a reference pressure, by default assumed to be sea level pressure. For sea water potential density, if 1000 kg m-3 is subtracted, the standard name sea_water_sigma_theta should be chosen instead.</td><td>http://api.socib.es/conventions/CF</td><td>http://api.socib.es/standard-variable-types/Hydrology</td><td>kg m-3</td></tr><tr><td>sea_water_potential_temperature</td><td>Sea water potential temperature</td><td>Potential temperature is the temperature a parcel of air or sea water would have if moved adiabatically to sea level pressure.</td><td>http://api.socib.es/conventions/CF</td><td>http://api.socib.es/standard-variable-types/Hydrology</td><td>K</td></tr><tr><td>sea_water_practical_salinity</td><td>Sea water practical salinity</td><td>&lt;span style=&quot;font-family: &#x27;Lucida Grande&#x27;, Verdana, Lucida, Helvetica, Arial, sans-serif; font-size: 14px; background-color: rgb(255, 255, 255);&quot;&gt;Practical Salinity, S_P, is defined on the Practical Salinity Scale of 1978 (PSS-78) and is calculated from the electrical conductivity of sea water (as well as temperature and pressure). Officially S_P is dimensionless so that, while convenient, and while it is common practice, it is not officially sanctioned to say S_P = 35 psu. Often authors use PSS-78, as in S_P = 35 PSS-78. If salinity was measured using remote sensing techniques and not conductivity, then it is recommended that additional metadata (calibration/validation information) be described in the variable comment attribute. This name should be used to describe salinity observations made from 1978 onwards (Practical Salinity is the salinity quantity stored by national data centres for post-1978 observations). The only exception to this is where the observed salinities are definitely known not to be recorded on the Practical Salinity Scale. There are also standard names for the precisely defined salinity quantities sea_water_knudsen_salinity, S_K (used for salinity observations between 1901 and 1966), sea_water_cox_salinity, S_C (used for salinity observations between 1967 and 1977), sea_water_absolute_salinity, S_A, sea_water_preformed_salinity, S_*, and sea_water_reference_salinity. Salinity quantities that do not match any of the precise definitions should be given the more general standard name of sea_water_salinity. Reference: www.teos-10.org; Lewis, 1980 doi:10.1109/JOE.1980.1145448&lt;/span&gt;</td><td>http://api.socib.es/conventions/CF</td><td>http://api.socib.es/standard-variable-types/Hydrology</td><td>1e-3</td></tr><tr><td>sea_water_pressure</td><td>Sea water pressure</td><td>&quot;Sea water pressure&quot; is the pressure that exists in the mediumof sea water.  It includes the pressure due to overlying sea water, sea ice, air and any other medium that may be present.</td><td>http://api.socib.es/conventions/CF</td><td>http://api.socib.es/standard-variable-types/Hydrology</td><td>dbar</td></tr><tr><td>sea_water_salinity</td><td>Sea water salinity</td><td>The unit of salinity is PSU, which is dimensionless. The units attribute should be given as 1e-3 or 0.001 i.e. parts per thousand if salinity is in PSU.</td><td>http://api.socib.es/conventions/CF</td><td>http://api.socib.es/standard-variable-types/Hydrology</td><td>1e-3</td></tr><tr><td>sea_water_sigma_t</td><td>Sea water sigma t</td><td>Sigma-t of sea water is the density of water at atmospheric pressure (i.e. the surface) having the same temperature and salinity, minus 1000 kg m-3. Note that sea water sigma is not the same quantity as the dimensionless ocean sigma coordinate (see Appendix D of the CF convention), for which there is another standard name.</td><td>http://api.socib.es/conventions/CF</td><td>None</td><td>kg m-3</td></tr><tr><td>sea_water_speed</td><td>Sea water speed</td><td>Speed is the magnitude of velocity.</td><td>http://api.socib.es/conventions/CF</td><td>http://api.socib.es/standard-variable-types/Ocean%20Dynamics</td><td>m s-1</td></tr><tr><td>sea_water_speed_deviation</td><td>Sea water speed deviation</td><td>deviation of sea_water_speed&lt;div&gt;Speed is the magnitude of velocity.&lt;/div&gt;</td><td>http://api.socib.es/conventions/CF</td><td>http://api.socib.es/standard-variable-types/Ocean%20Dynamics</td><td>Deg</td></tr><tr><td>sea_water_speed_on_sea_floor</td><td>Sea water speed on sea floor</td><td>Speed is the magnitude of velocity.</td><td>http://api.socib.es/conventions/SCB</td><td>http://api.socib.es/standard-variable-types/Ocean%20Dynamics</td><td>m s-1</td></tr><tr><td>sea_water_temperature</td><td>Sea water temperature</td><td>None</td><td>http://api.socib.es/conventions/CF</td><td>http://api.socib.es/standard-variable-types/Hydrology</td><td>K</td></tr><tr><td>speed_of_sound_in_sea_water</td><td>Speed of sound in sea water</td><td>Speed is the magnitude of velocity.</td><td>http://api.socib.es/conventions/CF</td><td>http://api.socib.es/standard-variable-types/Hydrology</td><td>m s-1</td></tr><tr><td>station_name</td><td>Station name</td><td>None</td><td>http://api.socib.es/conventions/SCB</td><td>None</td><td>1</td></tr><tr><td>surface_downward_northward_stress</td><td>Surface downward northward stress</td><td>The surface called &quot;surface&quot; means the lower boundary of the atmosphere. &quot;Northward&quot; indicates a vector component which is positive when directed northward (negative southward). &quot;Downward&quot; indicates a vector component which is positive when directed downward (negative upward). &quot;Downward northward&quot; indicates the ZY component of a tensor. A downward northward stress is a downward flux of northward momentum, which accelerates the lower medium northward and the upper medium southward. The surface downward stress is the windstress on the surface.</td><td>http://api.socib.es/conventions/CF</td><td>http://api.socib.es/standard-variable-types/Atmosphere%20Dynamics</td><td>Pa</td></tr><tr><td>surface_downwelling_photosynthetic_photon_flux_in_air</td><td>Surface downwelling photosynthetic photon flux in air</td><td>The surface called &quot;surface&quot; means the lower boundary of the atmosphere. Downwelling radiation is radiation from above. It does not mean &quot;net downward&quot;. &quot;Photosynthetic&quot; radiation is the part of the spectrum which is used in photosynthesis e.g. 300-700 nm. The range of wavelengths could be specified precisely by the bounds of a coordinate of radiation_wavelength. A photon flux is specified in terms of numbers of photons expressed in moles. In accordance with common usage in geophysical disciplines, &quot;flux&quot; implies per unit area, called &quot;flux density&quot; in physics.</td><td>http://api.socib.es/conventions/CF</td><td>http://api.socib.es/standard-variable-types/Radiation</td><td>mol m-2 s-1</td></tr><tr><td>surface_net_downward_radiative_flux</td><td>Surface net downward radiative flux</td><td>The surface called &quot;surface&quot; means the lower boundary of the atmosphere. &quot;Downward&quot; indicates a vector component which is positive when directed downward (negative upward). Net downward radiation is the difference between radiation from above (downwelling) and radiation from below (upwelling). Radiative flux is the sum of shortwave and longwave radiative fluxes. In accordance with common usage in geophysical disciplines, &quot;flux&quot; implies per unit area, called &quot;flux density&quot; in physics. Unless indicated in the cell_methods attribute, a quantity is assumed to apply to the whole area of each horizontal grid box. Previously, the qualifier where_type was used to specify that the quantity applies only to the part of the grid box of the named type.  Names containing the where_type qualifier are deprecated and newly created data should use the cell_methods attribute to indicate the horizontal area to which the quantity applies.</td><td>http://api.socib.es/conventions/CF</td><td>http://api.socib.es/standard-variable-types/Radiation</td><td>W m-2</td></tr><tr><td>target_latitude</td><td>Target latitude</td><td>None</td><td>http://api.socib.es/conventions/SCB</td><td>http://api.socib.es/standard-variable-types/Coordinate</td><td>degree</td></tr><tr><td>target_longitude</td><td>Target longitude</td><td>None</td><td>http://api.socib.es/conventions/SCB</td><td>http://api.socib.es/standard-variable-types/Coordinate</td><td>degree</td></tr><tr><td>time</td><td>Time</td><td>None</td><td>http://api.socib.es/conventions/CF</td><td>http://api.socib.es/standard-variable-types/Coordinate</td><td>s</td></tr><tr><td>total_dissolved_solids</td><td>Total dissolved solids</td><td>None</td><td>http://api.socib.es/conventions/SCB</td><td>http://api.socib.es/standard-variable-types/Ocean%20Dynamics</td><td>mg L-1</td></tr><tr><td>turbidity_of_sea_water</td><td>Turbidity of sea water</td><td>None</td><td>http://api.socib.es/conventions/SCB</td><td>http://api.socib.es/standard-variable-types/Biogeochemistry</td><td>NTU</td></tr><tr><td>upward_sea_water_velocity</td><td>Upward sea water velocity</td><td>A velocity is a vector quantity. &quot;Upward&quot; indicates a vector component which is positive when directed upward (negative downward).</td><td>http://api.socib.es/conventions/CF</td><td>http://api.socib.es/standard-variable-types/Ocean%20Dynamics</td><td>m s-1</td></tr><tr><td>upward_sea_water_velocity_on_sea_floor</td><td>Upward sea water velocity on sea floor</td><td>A velocity is a vector quantity. &quot;Upward&quot; indicates a vector component which is positive when directed upward (negative downward).</td><td>http://api.socib.es/conventions/SCB</td><td>http://api.socib.es/standard-variable-types/Ocean%20Dynamics</td><td>m s-1</td></tr><tr><td>volume_beam_attenuation_coefficient_of_radiative_flux_in_sea_water</td><td>Volume beam attenuation coefficient of radiative flux in sea water</td><td>Radiative flux is the sum of shortwave and longwave radiative fluxes. In accordance with common usage in geophysical disciplines, &quot;flux&quot; implies per unit area, called &quot;flux density&quot; in physics. The volume scattering/absorption/attenuation coefficient is the fractional change of radiative flux per unit path length due to the stated process. Coefficients with canonical units of m2 s-1 i.e. multiplied by density have standard names with specific_ instead of volume_. The scattering/absorption/attenuation coefficient is assumed to be an integral over all wavelengths, unless a coordinate of radiation_wavelength is included to specify the wavelength. Attenuation is the sum of absorption and scattering. Attenuation is sometimes called &quot;extinction&quot;. Beam attenuation refers to the decrease of radiative flux along the direction of the incident path. It is distinguished from attenuation of the downwelling component of radiative flux from any incident direction, also called &quot;diffuse&quot; attenuation.</td><td>http://api.socib.es/conventions/CF</td><td>http://api.socib.es/standard-variable-types/Radiation</td><td>m-1</td></tr><tr><td>water_surface_height_above_reference_datum</td><td>Water surface height above reference datum</td><td>&#x27;Water surface height above reference datum&#x27; means the height of the upper surface of a body of liquid water, such as sea, lake or river, above an arbitrary reference datum. The altitude of the datum should be provided in a variable with standard name water_surface_reference_datum_altitude. The surface called &quot;surface&quot; means the lower boundary of the atmosphere.</td><td>http://api.socib.es/conventions/CF</td><td>http://api.socib.es/standard-variable-types/Surface</td><td>m</td></tr><tr><td>water_vapor_partial_pressure_in_air</td><td>Water vapor partial pressure in air</td><td> The partial pressure of a gaseous constituent of air is the pressure which it alone would exert with unchanged temperature and number of moles per unit volume. </td><td>http://api.socib.es/conventions/CF</td><td>http://api.socib.es/standard-variable-types/Atmosphere%20Dynamics</td><td>Pa</td></tr><tr><td>water_volume_transport_into_sea_water_from_rivers</td><td>Water volume transport into sea water from rivers</td><td>&quot;Water&quot; means water in all phases. The water flux or volume transport into sea water from rivers is the inflow to the ocean, often applied to the surface in ocean models.</td><td>http://api.socib.es/conventions/CF</td><td>http://api.socib.es/standard-variable-types/Hydrology</td><td>m3 s-1</td></tr><tr><td>wind_from_direction</td><td>Wind from direction</td><td>Wind is defined as a two-dimensional (horizontal) air velocity vector, with no vertical component. (Vertical motion in the atmosphere has the standard name upward_air_velocity.) In meteorological reports, the direction of the wind vector is usually (but not always) given as the direction from which it is blowing (wind_from_direction) (westerly, northerly, etc.). In other contexts, such as atmospheric modelling, it is often natural to give the direction in the usual manner of vectors as the heading or the direction to which it is blowing (wind_to_direction) (eastward, southward, etc.) &quot;from_direction&quot; is used in the construction X_from_direction and indicates the direction from which the velocity vector of X is coming.</td><td>http://api.socib.es/conventions/CF</td><td>http://api.socib.es/standard-variable-types/Atmosphere%20Dynamics</td><td>degree</td></tr><tr><td>wind_gust_from_direction</td><td>Wind gust from direction</td><td>The phrase &quot;from_direction&quot; is used in the construction X_from_direction and indicates the direction from which the velocity vector of X is coming. The direction is a bearing in the usual geographical sense, measured positive clockwise from due north. A gust is a sudden brief period of high wind speed. In an observed time series of wind speed, the gust wind speed can be indicated by a cell_methods of &quot;maximum&quot; for the time-interval.&amp;nbsp;</td><td>http://api.socib.es/conventions/CF</td><td>http://api.socib.es/standard-variable-types/Atmosphere%20Dynamics</td><td>degree</td></tr><tr><td>wind_speed</td><td>Wind speed</td><td>Speed is the magnitude of velocity. Wind is defined as a two-dimensional (horizontal) air velocity vector, with no vertical component. (Vertical motion in the atmosphere has the standard name upward_air_velocity.) The wind speed is the magnitude of the wind velocity.</td><td>http://api.socib.es/conventions/CF</td><td>http://api.socib.es/standard-variable-types/Atmosphere%20Dynamics</td><td>m s-1</td></tr><tr><td>wind_speed_of_gust</td><td>Wind speed of gust</td><td>Speed is the magnitude of velocity. Wind is defined as a two-dimensional (horizontal) air velocity vector, with no vertical component. (Vertical motion in the atmosphere has the standard name upward_air_velocity.) The wind speed is the magnitude of the wind velocity. A gust is a sudden brief period of high wind speed. In an observed timeseries of wind speed, the gust wind speed can be indicated by a cell_methods of maximum for the time-interval. In an atmospheric model which has a parametrised calculation of gustiness, the gust wind speed may be separately diagnosed from the wind speed.</td><td>http://api.socib.es/conventions/CF</td><td>http://api.socib.es/standard-variable-types/Atmosphere%20Dynamics</td><td>m s-1</td></tr></tbody></table>"
      ],
      "text/plain": [
       "<IPython.core.display.HTML object>"
      ]
     },
     "execution_count": 10,
     "metadata": {},
     "output_type": "execute_result"
    }
   ],
   "source": [
    "query = 'https://api.socib.es/standard-variables/'\n",
    "response = scbRequestHandler(query,headers)\n",
    "print('SOCIB is managing a total of %s standard variables'%(len(response)))\n",
    "HTML(json2html.convert(json=response))"
   ]
  },
  {
   "cell_type": "markdown",
   "metadata": {},
   "source": [
    "## 2.3. Representations"
   ]
  },
  {
   "cell_type": "markdown",
   "metadata": {},
   "source": [
    "Like \"water\" (ice, liquid, gas) a given data stream can be found in a variety of forms as a result of the generation, the processing mechanisms applied to it and its formatting shape/geometry. This way all data streams at SOCIB are avaiable in a variety of:"
   ]
  },
  {
   "cell_type": "markdown",
   "metadata": {},
   "source": [
    "<li>Data modes / <i>Data generation modes</i></li>"
   ]
  },
  {
   "cell_type": "markdown",
   "metadata": {},
   "source": [
    "Would you like to to know the potential data modes for data stream managed at SOCIB?<br>\n",
    "`Run the next cell`"
   ]
  },
  {
   "cell_type": "code",
   "execution_count": 11,
   "metadata": {},
   "outputs": [
    {
     "name": "stdout",
     "output_type": "stream",
     "text": [
      "SOCIB is managing a total of 4 data modes\n"
     ]
    },
    {
     "data": {
      "text/html": [
       "<table border=\"1\"><thead><tr><th>code</th><th>name</th><th>description</th><th>ref_uri</th><th>type</th></tr></thead><tbody><tr><td>rt</td><td>Real time</td><td>Real Time or Near Real Time data streams. Data produced in a short time window since first transmitted (minutes to hours) by a set of automatic procedures. A Real Time data-mode will apply only if a communication satellite channel is enabled for the transmission of the data as soon as measured.</td><td>None</td><td>None</td></tr><tr><td>dt</td><td>Delay time</td><td>Delay Time data streams. Data produced after the recovery of the platform in a long time window (months) by a set of automatic procedures. A Delayed Time data-mode will apply only if the platform or underlying sensors are provided with an internal memory to store measurements on platform-recovery.</td><td>None</td><td>None</td></tr><tr><td>dm</td><td>Delay mode</td><td>Delay Mode data streams. Data produced from the Delay Time or, if not available, Real Time datasets by a set of semi-automatic procedures. This generation mode includes extra data quality control or corrections and scientific assessment.</td><td>None</td><td>None</td></tr><tr><td>t</td><td>Trajectory</td><td>Trajectory data stream. TO BE DEPRECATED. Files with this data mode are a subset of the Real Time or Near Real Time data streams containing only positions.</td><td>None</td><td>None</td></tr></tbody></table>"
      ],
      "text/plain": [
       "<IPython.core.display.HTML object>"
      ]
     },
     "execution_count": 11,
     "metadata": {},
     "output_type": "execute_result"
    }
   ],
   "source": [
    "query = 'https://api.socib.es/data-modes/'\n",
    "response = scbRequestHandler(query,headers)\n",
    "print('SOCIB is managing a total of %s data modes'%(len(response)))\n",
    "HTML(json2html.convert(json=response))"
   ]
  },
  {
   "cell_type": "markdown",
   "metadata": {},
   "source": [
    "<li>Processing levels / <i>Data processing levels</i></li>"
   ]
  },
  {
   "cell_type": "markdown",
   "metadata": {},
   "source": [
    "Would you like to to know the potential processing levels for data stream managed at SOCIB?<br>\n",
    "`Run the next cell`"
   ]
  },
  {
   "cell_type": "code",
   "execution_count": 12,
   "metadata": {},
   "outputs": [
    {
     "name": "stdout",
     "output_type": "stream",
     "text": [
      "SOCIB is managing a total of 5 processing levels\n"
     ]
    },
    {
     "data": {
      "text/html": [
       "<table border=\"1\"><thead><tr><th>code</th><th>name</th><th>description</th><th>ref_uri</th><th>type</th></tr></thead><tbody><tr><td>L1*</td><td>Reference (L1*)</td><td>L1* refers to both L1 and L1_corr NetCDF files. If used for selection, it will solely return the most complete set if both available (L1_corr).</td><td>None</td><td>group</td></tr><tr><td>L0</td><td>L0</td><td>First level of NetCDF files representing a data stream. These NetCDF files include the complete set of observed variables (present on the raw data in multiple formats - cnv, ascii, binary...-) according to the specifications of the SOCIB netCDF Manual.</td><td>None</td><td>strict</td></tr><tr><td>L1</td><td>L1</td><td>Second level of NetCDF files representing a data stream. These NetCDF files include a subset of  the original set of observed variables (preserving only scientific ones) and additional ones (derived ones and, potentially, QC variables reflecting data reliability according to SOCIB Quality Control flagging convention) according to the specifications of the SOCIB netCDF Manual.</td><td>None</td><td>strict</td></tr><tr><td>L1_corr</td><td>L1_corr</td><td>Third level of NetCDF files representing a data stream. These NetCDF files include the variables included in L1 plus others (corrected or delayed-mode variables) according to the specifications of the SOCIB netCDF Manual.</td><td>None</td><td>strict</td></tr><tr><td>L2</td><td>L2</td><td>Fourth level of NetCDF files representing a data stream. These NetCDF files include the variables included in L1 files but mapped to a vertical grid trough the interpolation of the original trajectoryProfile on the vertical axis using the mean time and position of the corresponding cast</td><td>None</td><td>strict</td></tr></tbody></table>"
      ],
      "text/plain": [
       "<IPython.core.display.HTML object>"
      ]
     },
     "execution_count": 12,
     "metadata": {},
     "output_type": "execute_result"
    }
   ],
   "source": [
    "query = 'https://api.socib.es/processing-levels/'\n",
    "response = scbRequestHandler(query,headers)\n",
    "print('SOCIB is managing a total of %s processing levels'%(len(response)))\n",
    "HTML(json2html.convert(json=response))"
   ]
  },
  {
   "cell_type": "markdown",
   "metadata": {},
   "source": [
    "<li>Features / <i>Data formattign shape/geometry</i></li>"
   ]
  },
  {
   "cell_type": "markdown",
   "metadata": {},
   "source": [
    "Would you like to to know the potential features for data stream managed at SOCIB?<br>\n",
    "`Run the next cell`"
   ]
  },
  {
   "cell_type": "code",
   "execution_count": 13,
   "metadata": {},
   "outputs": [
    {
     "name": "stdout",
     "output_type": "stream",
     "text": [
      "SOCIB is managing a total of 7 feature types\n"
     ]
    },
    {
     "data": {
      "text/html": [
       "<table border=\"1\"><thead><tr><th>code</th><th>name</th><th>description</th><th>ref_uri</th><th>type</th></tr></thead><tbody><tr><td>timeSeries</td><td>Time series</td><td>Shape of the data resulting from the discrete observations reported by an instrument installed on a fixed platform. Example: Sea Level data.</td><td>None</td><td>None</td></tr><tr><td>timeSeriesProfile</td><td>Time series profile</td><td>Shape of the data resulting from the observations on a depth range (continuous) reported by an instrument/sensor installed on a fixed platform. Example: Ocenographic Buoys ADCPs</td><td>None</td><td>None</td></tr><tr><td>trajectory</td><td>Trajectory</td><td>Shape of the data resulting from the discrete observations reported by an instrument/sensor installed on a on a mobile platform moving solely on the horizontal axis. Surface drifters data.</td><td>None</td><td>None</td></tr><tr><td>trajectory3d</td><td>Trajectory 3d</td><td>Shape of the data resulting from the observations on a depth range (continuous) reported by an instrument/sensor installed on a mobile platform moving on the horizontal axis. Example: Vessel ADCP/Current profiler.</td><td>None</td><td>None</td></tr><tr><td>trajectoryProfile</td><td>Trajectory profile</td><td>Shape of the data resulting from the discrete observations reported by an instrument/sensor installed on a mobile platform moving both on the horizontal and the vertical axis (at regular levels). Example Glider data</td><td>None</td><td>None</td></tr><tr><td>trajectoryProfileIrregular</td><td>Trajectory profile irregular</td><td>Shape of the data resulting from the discrete observations reported by an instrument/sensor installed on a mobile platform moving both on the horizontal and the vertical axis (at irregular levels). Example: Vessel CTDs data</td><td>None</td><td>None</td></tr><tr><td>grid</td><td>Grid</td><td>Shape of the data resulting from the observations reported by HF-Radar instrument/sensors.</td><td>None</td><td>None</td></tr></tbody></table>"
      ],
      "text/plain": [
       "<IPython.core.display.HTML object>"
      ]
     },
     "execution_count": 13,
     "metadata": {},
     "output_type": "execute_result"
    }
   ],
   "source": [
    "query = 'https://api.socib.es/feature-types/'\n",
    "response = scbRequestHandler(query,headers)\n",
    "print('SOCIB is managing a total of %s feature types'%(len(response)))\n",
    "HTML(json2html.convert(json=response))"
   ]
  },
  {
   "cell_type": "markdown",
   "metadata": {},
   "source": [
    "## 3. Wrap-up"
   ]
  },
  {
   "cell_type": "markdown",
   "metadata": {},
   "source": [
    "So far, you shoud be familiar with infrastructure managed by SOCIB in terms of platforms and instruments, as well as the data resulting of deploying such infrasctructure in terms of measured variables and possible data modes, processing levels and features."
   ]
  }
 ],
 "metadata": {
  "kernelspec": {
   "display_name": "Python 3 (ipykernel)",
   "language": "python",
   "name": "python3"
  },
  "language_info": {
   "codemirror_mode": {
    "name": "ipython",
    "version": 3
   },
   "file_extension": ".py",
   "mimetype": "text/x-python",
   "name": "python",
   "nbconvert_exporter": "python",
   "pygments_lexer": "ipython3",
   "version": "3.8.10"
  }
 },
 "nbformat": 4,
 "nbformat_minor": 1
}
